{
 "metadata": {
  "name": ""
 },
 "nbformat": 3,
 "nbformat_minor": 0,
 "worksheets": [
  {
   "cells": [
    {
     "cell_type": "markdown",
     "metadata": {},
     "source": [
      "<h1 align=\"center\">Python for Scientific Computing:</h1> \n",
      "<h1 align=\"center\">$\\text{NumPy}$ and $\\text{matplotlib}$</h1>\n",
      "</br></br>"
     ]
    },
    {
     "cell_type": "markdown",
     "metadata": {},
     "source": [
      "In this tutorial, we'll learn the basic functionality of two important Python packages for scientific computing: **NumPy** and **matplotlib**.  \n",
      "\n",
      "First, recall from previous tutorials some useful shortcuts for [IPython notebook](http://www.ipython.org):\n",
      "\n",
      "- To run a cell click on it and hit shift+enter.\n",
      "- To create a new cell below: ctrl+m+b\n",
      "- To create a new cell above: ctr+m+a\n",
      "- To delete a cell: ctr+m+d\n",
      "- Undo a cell deletion: ctr+m+z\n",
      "- Markdown cell to write text: ctrl+m+m\n",
      "- Code cell: ctrl+m+y\n",
      "- View all shortcuts: ctrl+m+h"
     ]
    },
    {
     "cell_type": "markdown",
     "metadata": {},
     "source": [
      "Acknowledgements:\n",
      "\n",
      "- David Ketcheson's [Introduction to NumPy and Matplotlib](http://nbviewer.ipython.org/github/ketch/AMCS252/blob/master/2_Introduction_to_Numpy%20and_Matplotlib.ipynb).\n",
      "- Software Carpentry's [Numerical analysis with NumPy](http://nbviewer.ipython.org/github/geocarpentry/2014-01-30-mit/blob/gh-pages/lessons/vignettes/Numerical%20analysis%20with%20NumPy.ipynb)\n",
      "- J.R. Johansson's [Numpy - multidimensional data arrays](http://nbviewer.ipython.org/github/jrjohansson/scientific-python-lectures/blob/master/Lecture-2-Numpy.ipynb).\n",
      "- Material taken from relative tutorials on [Tentative NumPy tutorial](http://www.scipy.org/Tentative_NumPy_Tutorial) and Nicolas P. Rougier's [Matplotlib tutorial](http://www.loria.fr/~rougier/teaching/matplotlib/)."
     ]
    },
    {
     "cell_type": "markdown",
     "metadata": {},
     "source": [
      "<h1 align=\"center\">NumPy</h1>\n",
      "\n",
      "Python includes a package for numerical computation called numpy, which is an essential tool for scienific computing. It is based on multidimensional arrays (vectors and matrices) and provides a large library of functions and operators that work efficiently on these objects.\n",
      "In this way, any numerical algorithm is expressed as operations on arrays and in many cases runs almost as quickly as the equivalent C code.\n",
      "\n",
      "Numpy is complemented by [`SciPy`](http://www.scipy.org/); a library that adds more MATLAB-like functionality and [`matplotlib`](http://matplotlib.org/); a plotting package that provides MATLAB-like plotting functionality. \n",
      "\n",
      "Like MATLAB, NumPy relies on BLAS and LAPACK for efficient linear algebra computations.\n",
      "\n",
      "\n",
      "NumPy's is used in:</br>\n",
      "Numerical Analysis, Linear algebra, Solution of differential equations, Image and signal processing, Statistical analysis, Data transformation and query and many more...\n"
     ]
    },
    {
     "cell_type": "markdown",
     "metadata": {},
     "source": [
      "### Why to use NumPy\n",
      "\n",
      "Consider the following list and suppose we want to perform some simple algebraic operations:"
     ]
    },
    {
     "cell_type": "code",
     "collapsed": false,
     "input": [
      "price = [5.99, 10.25, 2.0, 40.99, 5.60, 63.49]"
     ],
     "language": "python",
     "metadata": {},
     "outputs": [],
     "prompt_number": 6
    },
    {
     "cell_type": "code",
     "collapsed": false,
     "input": [
      "price*2"
     ],
     "language": "python",
     "metadata": {},
     "outputs": [
      {
       "metadata": {},
       "output_type": "pyout",
       "prompt_number": 7,
       "text": [
        "[5.99, 10.25, 2.0, 40.99, 5.6, 63.49, 5.99, 10.25, 2.0, 40.99, 5.6, 63.49]"
       ]
      }
     ],
     "prompt_number": 7
    },
    {
     "cell_type": "code",
     "collapsed": false,
     "input": [
      "price+0.5"
     ],
     "language": "python",
     "metadata": {},
     "outputs": [
      {
       "ename": "TypeError",
       "evalue": "can only concatenate list (not \"float\") to list",
       "output_type": "pyerr",
       "traceback": [
        "\u001b[0;31m---------------------------------------------------------------------------\u001b[0m\n\u001b[0;31mTypeError\u001b[0m                                 Traceback (most recent call last)",
        "\u001b[0;32m<ipython-input-8-ba6ebb983a2c>\u001b[0m in \u001b[0;36m<module>\u001b[0;34m()\u001b[0m\n\u001b[0;32m----> 1\u001b[0;31m \u001b[0mprice\u001b[0m\u001b[0;34m+\u001b[0m\u001b[0;36m0.5\u001b[0m\u001b[0;34m\u001b[0m\u001b[0m\n\u001b[0m",
        "\u001b[0;31mTypeError\u001b[0m: can only concatenate list (not \"float\") to list"
       ]
      }
     ],
     "prompt_number": 8
    },
    {
     "cell_type": "markdown",
     "metadata": {},
     "source": [
      "Clearly, if we wanted to double each element and add 0.5 this cannot be done easily. Instead we whould use a loop:"
     ]
    },
    {
     "cell_type": "code",
     "collapsed": false,
     "input": [
      "for i in range(len(price)):\n",
      "    price[i] = price[i]*2\n",
      "    price[i] = price[i]+0.5\n",
      "print price"
     ],
     "language": "python",
     "metadata": {},
     "outputs": [
      {
       "output_type": "stream",
       "stream": "stdout",
       "text": [
        "[12.48, 21.0, 4.5, 82.48, 11.7, 127.48]\n"
       ]
      }
     ],
     "prompt_number": 9
    },
    {
     "cell_type": "markdown",
     "metadata": {},
     "source": [
      "But there should be a more convinient way..."
     ]
    },
    {
     "cell_type": "markdown",
     "metadata": {},
     "source": [
      "### Getting started\n",
      "\n",
      "We start, by importing the NumPy module. Import statements like this are the typical way of getting access to functions in Python. The most general way to import a module is the following:"
     ]
    },
    {
     "cell_type": "code",
     "collapsed": false,
     "input": [
      "from numpy import *"
     ],
     "language": "python",
     "metadata": {},
     "outputs": [],
     "prompt_number": 10
    },
    {
     "cell_type": "markdown",
     "metadata": {},
     "source": [
      "The above imports all functions included in the package and can call them simply by their name."
     ]
    },
    {
     "cell_type": "code",
     "collapsed": false,
     "input": [
      "sin(3*pi/2)*exp(2)"
     ],
     "language": "python",
     "metadata": {},
     "outputs": [
      {
       "metadata": {},
       "output_type": "pyout",
       "prompt_number": 11,
       "text": [
        "-7.3890560989306504"
       ]
      }
     ],
     "prompt_number": 11
    },
    {
     "cell_type": "markdown",
     "metadata": {},
     "source": [
      "Instead we can import the numpy module and tell Python that we want to refer to numpy by the short abbreviation \"np\". This is recemmmended since we keep track of which module the fuctions belong to."
     ]
    },
    {
     "cell_type": "code",
     "collapsed": false,
     "input": [
      "import numpy as np"
     ],
     "language": "python",
     "metadata": {},
     "outputs": [],
     "prompt_number": 4
    },
    {
     "cell_type": "markdown",
     "metadata": {},
     "source": [
      "### Arrays\n",
      "\n",
      "NumPy's main object is the homogeneous multidimensional array. \n",
      "It is a table of elements - all of the same type - indexed by a tuple of positive integers.\n",
      "\n",
      "NumPy's array class is called *ndarray* and the package includes basic utility functions for creating and manipulate arrays in a similar fashion to MATLAB.\n",
      "For example we can create a one-dimensional array by:"
     ]
    },
    {
     "cell_type": "code",
     "collapsed": false,
     "input": [
      "price = np.array([5.99, 10.25, 2.0, 40.99, 5.60, 63.49])\n",
      "print type(price)\n",
      "price = price*2+0.5\n",
      "print price"
     ],
     "language": "python",
     "metadata": {},
     "outputs": [
      {
       "output_type": "stream",
       "stream": "stdout",
       "text": [
        "<type 'numpy.ndarray'>\n",
        "[  12.48   21.      4.5    82.48   11.7   127.48]\n"
       ]
      }
     ],
     "prompt_number": 13
    },
    {
     "cell_type": "markdown",
     "metadata": {},
     "source": [
      "There are other ways to create one-dimensional arrays:"
     ]
    },
    {
     "cell_type": "code",
     "collapsed": false,
     "input": [
      "x = np.linspace(-1,1,5)\n",
      "print x"
     ],
     "language": "python",
     "metadata": {},
     "outputs": [
      {
       "output_type": "stream",
       "stream": "stdout",
       "text": [
        "[-1.  -0.5  0.   0.5  1. ]\n"
       ]
      }
     ],
     "prompt_number": 14
    },
    {
     "cell_type": "code",
     "collapsed": false,
     "input": [
      "y = np.arange(0,1,0.2)\n",
      "print y"
     ],
     "language": "python",
     "metadata": {},
     "outputs": [
      {
       "output_type": "stream",
       "stream": "stdout",
       "text": [
        "[ 0.   0.2  0.4  0.6  0.8]\n"
       ]
      }
     ],
     "prompt_number": 15
    },
    {
     "cell_type": "markdown",
     "metadata": {},
     "source": [
      "**<u>Exercise 1:</u>** Change the inputs of the *linspace* and *arange* function until you understand exactly what they do. Using both ways, create a vector of starting from -1.5 to 4.5 exclusive with a step of 0.5. "
     ]
    },
    {
     "cell_type": "code",
     "collapsed": false,
     "input": [
      "#%load solutions/exercise1.py"
     ],
     "language": "python",
     "metadata": {},
     "outputs": [],
     "prompt_number": 18
    },
    {
     "cell_type": "markdown",
     "metadata": {},
     "source": [
      "We can always find out what a function does is to type its name, followed by a question mark:"
     ]
    },
    {
     "cell_type": "code",
     "collapsed": false,
     "input": [
      "np.arange?"
     ],
     "language": "python",
     "metadata": {},
     "outputs": [],
     "prompt_number": 19
    },
    {
     "cell_type": "markdown",
     "metadata": {},
     "source": [
      "You can resize the help window (to get it out of your way) by dragging the divider. Double click on the divider to close it."
     ]
    },
    {
     "cell_type": "markdown",
     "metadata": {},
     "source": [
      "### Multidimensional arrays\n",
      "\n",
      "We can create multidimensional arrays, like the following:"
     ]
    },
    {
     "cell_type": "code",
     "collapsed": false,
     "input": [
      "A = np.array([[1,2.4,-13],[4.1,5,0],[7.2,8,9]])\n",
      "print \"A = \", A\n",
      "print type(A)\n",
      "print A.shape\n",
      "print A.dtype"
     ],
     "language": "python",
     "metadata": {},
     "outputs": [
      {
       "output_type": "stream",
       "stream": "stdout",
       "text": [
        "A =  [[  1.    2.4 -13. ]\n",
        " [  4.1   5.    0. ]\n",
        " [  7.2   8.    9. ]]\n",
        "<type 'numpy.ndarray'>\n",
        "(3, 3)\n",
        "float64\n"
       ]
      }
     ],
     "prompt_number": 20
    },
    {
     "cell_type": "markdown",
     "metadata": {},
     "source": [
      "To see all different attributes of the array object type its name followed by a fullstop and press *tap*. Note that some attributes are basically functions and require parentheses (with or without arguments), e.g. *conjugate* and others don't, e.g. *size*:"
     ]
    },
    {
     "cell_type": "code",
     "collapsed": false,
     "input": [
      "A = np.array([[1,2+4j,3j],[4j,5,6-5j],[7j,8,9+3j]]) # dtype=complex\n",
      "print A.conjugate()\n",
      "print A.size"
     ],
     "language": "python",
     "metadata": {},
     "outputs": [
      {
       "output_type": "stream",
       "stream": "stdout",
       "text": [
        "[[ 1.-0.j  2.-4.j  0.-3.j]\n",
        " [ 0.-4.j  5.-0.j  6.+5.j]\n",
        " [ 0.-7.j  8.-0.j  9.-3.j]]\n",
        "9\n"
       ]
      }
     ],
     "prompt_number": 21
    },
    {
     "cell_type": "markdown",
     "metadata": {},
     "source": [
      "We also can define the shape of the array:"
     ]
    },
    {
     "cell_type": "code",
     "collapsed": false,
     "input": [
      "np.random.uniform(0,1,size=(5,5)) # 5 x 5 matrix with elements from a uniform distribution"
     ],
     "language": "python",
     "metadata": {},
     "outputs": [
      {
       "metadata": {},
       "output_type": "pyout",
       "prompt_number": 22,
       "text": [
        "array([[ 0.93506092,  0.38928033,  0.66310792,  0.07040153,  0.67721141],\n",
        "       [ 0.39594721,  0.4572743 ,  0.50152594,  0.83264314,  0.2484045 ],\n",
        "       [ 0.7916596 ,  0.08944667,  0.87304928,  0.09692983,  0.48065834],\n",
        "       [ 0.43250072,  0.45604677,  0.90377227,  0.03903065,  0.13783853],\n",
        "       [ 0.87381366,  0.27550974,  0.74816096,  0.22235544,  0.5771213 ]])"
       ]
      }
     ],
     "prompt_number": 22
    },
    {
     "cell_type": "markdown",
     "metadata": {},
     "source": [
      "#### Special arrays\n",
      "\n",
      "The function *zeros* creates an array full of zeros, the function *ones* creates an array full of ones and *eye* an identity array. Dunction *diag* is used for a diagonal array with specified diagonal elements. A matrix with random entries is generated by the *random* function."
     ]
    },
    {
     "cell_type": "code",
     "collapsed": false,
     "input": [
      "print np.zeros((3,4))\n",
      "print np.ones((2,3))\n",
      "print np.eye(3)"
     ],
     "language": "python",
     "metadata": {},
     "outputs": [
      {
       "output_type": "stream",
       "stream": "stdout",
       "text": [
        "[[ 0.  0.  0.  0.]\n",
        " [ 0.  0.  0.  0.]\n",
        " [ 0.  0.  0.  0.]]\n",
        "[[ 1.  1.  1.]\n",
        " [ 1.  1.  1.]]\n",
        "[[ 1.  0.  0.]\n",
        " [ 0.  1.  0.]\n",
        " [ 0.  0.  1.]]\n"
       ]
      }
     ],
     "prompt_number": 24
    },
    {
     "cell_type": "code",
     "collapsed": false,
     "input": [
      "print np.diag(x,0)\n",
      "print np.diag([2,3,4])\n",
      "print np.random.random((2,2))"
     ],
     "language": "python",
     "metadata": {},
     "outputs": [
      {
       "output_type": "stream",
       "stream": "stdout",
       "text": [
        "[[-1.5  0.   0.   0.   0.   0.   0.   0.   0.   0.   0.   0.   0. ]\n",
        " [ 0.  -1.   0.   0.   0.   0.   0.   0.   0.   0.   0.   0.   0. ]\n",
        " [ 0.   0.  -0.5  0.   0.   0.   0.   0.   0.   0.   0.   0.   0. ]\n",
        " [ 0.   0.   0.   0.   0.   0.   0.   0.   0.   0.   0.   0.   0. ]\n",
        " [ 0.   0.   0.   0.   0.5  0.   0.   0.   0.   0.   0.   0.   0. ]\n",
        " [ 0.   0.   0.   0.   0.   1.   0.   0.   0.   0.   0.   0.   0. ]\n",
        " [ 0.   0.   0.   0.   0.   0.   1.5  0.   0.   0.   0.   0.   0. ]\n",
        " [ 0.   0.   0.   0.   0.   0.   0.   2.   0.   0.   0.   0.   0. ]\n",
        " [ 0.   0.   0.   0.   0.   0.   0.   0.   2.5  0.   0.   0.   0. ]\n",
        " [ 0.   0.   0.   0.   0.   0.   0.   0.   0.   3.   0.   0.   0. ]\n",
        " [ 0.   0.   0.   0.   0.   0.   0.   0.   0.   0.   3.5  0.   0. ]\n",
        " [ 0.   0.   0.   0.   0.   0.   0.   0.   0.   0.   0.   4.   0. ]\n",
        " [ 0.   0.   0.   0.   0.   0.   0.   0.   0.   0.   0.   0.   4.5]]\n",
        "[[2 0 0]\n",
        " [0 3 0]\n",
        " [0 0 4]]\n",
        "[[ 0.6186665   0.35057806]\n",
        " [ 0.41542878  0.80030647]]\n"
       ]
      }
     ],
     "prompt_number": 25
    },
    {
     "cell_type": "markdown",
     "metadata": {},
     "source": [
      "Notice that there are two pairs of parentheses used when calling the *zeros*, *ones* and *random* command, because we are passing as argument (e.g. the Python tuple *(3,4)*), which is the shape of the resulting array."
     ]
    },
    {
     "cell_type": "markdown",
     "metadata": {},
     "source": [
      "Greating a grid:"
     ]
    },
    {
     "cell_type": "code",
     "collapsed": false,
     "input": [
      "x, y = np.mgrid[0:5, 0:5] \n",
      "print x.dtype\n",
      "x,y = np.meshgrid(linspace(0,4,5),linspace(0,4,5)) # similar to meshgrid in MATLAB\n",
      "print x.dtype"
     ],
     "language": "python",
     "metadata": {},
     "outputs": [
      {
       "output_type": "stream",
       "stream": "stdout",
       "text": [
        "int64\n",
        "float64\n"
       ]
      }
     ],
     "prompt_number": 342
    },
    {
     "cell_type": "markdown",
     "metadata": {},
     "source": [
      "### Reshape\n",
      "\n",
      "Manipulation of arrays can be done in many ways:  "
     ]
    },
    {
     "cell_type": "code",
     "collapsed": false,
     "input": [
      "A = np.arange(1,10)\n",
      "print \"A = \", A\n",
      "A = A.reshape((3,3))\n",
      "print A"
     ],
     "language": "python",
     "metadata": {},
     "outputs": [
      {
       "output_type": "stream",
       "stream": "stdout",
       "text": [
        "A =  [1 2 3 4 5 6 7 8 9]\n",
        "[[1 2 3]\n",
        " [4 5 6]\n",
        " [7 8 9]]\n"
       ]
      }
     ],
     "prompt_number": 26
    },
    {
     "cell_type": "code",
     "collapsed": false,
     "input": [
      "B = arange(15).reshape((3,5))\n",
      "print \"B = \", B\n",
      "print B.ravel() # flatten the array"
     ],
     "language": "python",
     "metadata": {},
     "outputs": [
      {
       "output_type": "stream",
       "stream": "stdout",
       "text": [
        "B =  [[ 0  1  2  3  4]\n",
        " [ 5  6  7  8  9]\n",
        " [10 11 12 13 14]]\n",
        "[ 0  1  2  3  4  5  6  7  8  9 10 11 12 13 14]\n"
       ]
      }
     ],
     "prompt_number": 27
    },
    {
     "cell_type": "markdown",
     "metadata": {},
     "source": [
      "### Indexing\n",
      "\n",
      "We can slice numpy arrays just as other programming languages, but the indexing is a little different. See the examples below:"
     ]
    },
    {
     "cell_type": "code",
     "collapsed": false,
     "input": [
      "print A\n",
      "print A[0,0]\n",
      "print A[1:3,0:2]\n",
      "print A[1:3,[0,1]]"
     ],
     "language": "python",
     "metadata": {},
     "outputs": [
      {
       "output_type": "stream",
       "stream": "stdout",
       "text": [
        "[[1 2 3]\n",
        " [4 5 6]\n",
        " [7 8 9]]\n",
        "1\n",
        "[[4 5]\n",
        " [7 8]]\n",
        "[[4 5]\n",
        " [7 8]]\n"
       ]
      }
     ],
     "prompt_number": 28
    },
    {
     "cell_type": "markdown",
     "metadata": {},
     "source": [
      "Note that the fundamental difference from MATLAB is that the indexing starts from zero and is exclusive of the second index. Hence, in the above example 1:3 refers to the second and third row and 0:2 to the first and second column."
     ]
    },
    {
     "cell_type": "markdown",
     "metadata": {},
     "source": [
      "We can index in some clever ways, too:  "
     ]
    },
    {
     "cell_type": "code",
     "collapsed": false,
     "input": [
      "print A"
     ],
     "language": "python",
     "metadata": {},
     "outputs": [
      {
       "output_type": "stream",
       "stream": "stdout",
       "text": [
        "[[1 2 3]\n",
        " [4 5 6]\n",
        " [7 8 9]]\n"
       ]
      }
     ],
     "prompt_number": 29
    },
    {
     "cell_type": "code",
     "collapsed": false,
     "input": [
      "print A[0,:] # row selection\n",
      "print A[:,0] # column selection"
     ],
     "language": "python",
     "metadata": {},
     "outputs": [
      {
       "output_type": "stream",
       "stream": "stdout",
       "text": [
        "[1 2 3]\n",
        "[1 4 7]\n"
       ]
      }
     ],
     "prompt_number": 30
    },
    {
     "cell_type": "code",
     "collapsed": false,
     "input": [
      "print A[:,1:] # all rows, from 2nd column until the end\n",
      "print A[-1,:] # last row, all columns"
     ],
     "language": "python",
     "metadata": {},
     "outputs": [
      {
       "output_type": "stream",
       "stream": "stdout",
       "text": [
        "[[2 3]\n",
        " [5 6]\n",
        " [8 9]]\n",
        "[7 8 9]\n"
       ]
      }
     ],
     "prompt_number": 31
    },
    {
     "cell_type": "markdown",
     "metadata": {},
     "source": [
      "We can change array's elements:"
     ]
    },
    {
     "cell_type": "code",
     "collapsed": false,
     "input": [
      "A[:,2] = [.3,.4,9.12]\n",
      "print A\n",
      "print A.dtype"
     ],
     "language": "python",
     "metadata": {},
     "outputs": [
      {
       "output_type": "stream",
       "stream": "stdout",
       "text": [
        "[[1 2 0]\n",
        " [4 5 0]\n",
        " [7 8 9]]\n",
        "int64\n"
       ]
      }
     ],
     "prompt_number": 32
    },
    {
     "cell_type": "markdown",
     "metadata": {},
     "source": [
      "Notice that the elements of A remain integers. That's because A has type 'int'. The following does the desired change:"
     ]
    },
    {
     "cell_type": "code",
     "collapsed": false,
     "input": [
      "A = array(A,dtype='float')\n",
      "A[:,2] = [.3,.4,9.12]\n",
      "print A"
     ],
     "language": "python",
     "metadata": {},
     "outputs": [
      {
       "output_type": "stream",
       "stream": "stdout",
       "text": [
        "[[ 1.    2.    0.3 ]\n",
        " [ 4.    5.    0.4 ]\n",
        " [ 7.    8.    9.12]]\n"
       ]
      }
     ],
     "prompt_number": 33
    },
    {
     "cell_type": "markdown",
     "metadata": {},
     "source": [
      "There is an easy way to reverse a vector:"
     ]
    },
    {
     "cell_type": "code",
     "collapsed": false,
     "input": [
      "a = arange(10)\n",
      "print a\n",
      "print a[: :-1] # reverse a"
     ],
     "language": "python",
     "metadata": {},
     "outputs": [
      {
       "output_type": "stream",
       "stream": "stdout",
       "text": [
        "[0 1 2 3 4 5 6 7 8 9]\n",
        "[9 8 7 6 5 4 3 2 1 0]\n"
       ]
      }
     ],
     "prompt_number": 34
    },
    {
     "cell_type": "markdown",
     "metadata": {},
     "source": [
      "We can also index an array using boolean arrays:"
     ]
    },
    {
     "cell_type": "code",
     "collapsed": false,
     "input": [
      "b = a>5\n",
      "print b\n",
      "a[b] = 0  # All elements of 'a' higher than 5 become 0\n",
      "print a"
     ],
     "language": "python",
     "metadata": {},
     "outputs": [
      {
       "output_type": "stream",
       "stream": "stdout",
       "text": [
        "[False False False False False False  True  True  True  True]\n",
        "[0 1 2 3 4 5 0 0 0 0]\n"
       ]
      }
     ],
     "prompt_number": 35
    },
    {
     "cell_type": "markdown",
     "metadata": {},
     "source": [
      "### Array and matrix multiplication"
     ]
    },
    {
     "cell_type": "code",
     "collapsed": false,
     "input": [
      "print a**2\n",
      "print 10*sin(np.pi/a[1:5]) # avoiding division with zero!\n",
      "print A*A"
     ],
     "language": "python",
     "metadata": {},
     "outputs": [
      {
       "output_type": "stream",
       "stream": "stdout",
       "text": [
        "[ 0  1  4  9 16 25  0  0  0  0]\n",
        "[  1.22464680e-15   1.00000000e+01   8.66025404e+00   7.07106781e+00]\n",
        "[[  1.       4.       0.09  ]\n",
        " [ 16.      25.       0.16  ]\n",
        " [ 49.      64.      83.1744]]\n"
       ]
      }
     ],
     "prompt_number": 36
    },
    {
     "cell_type": "markdown",
     "metadata": {},
     "source": [
      "By default, NumPy uses componentwise multiplication. For a matrix-matrix (or matrix-vector) multiplication, we use the *dot* function:  "
     ]
    },
    {
     "cell_type": "code",
     "collapsed": false,
     "input": [
      "np.dot(A,A)"
     ],
     "language": "python",
     "metadata": {},
     "outputs": [
      {
       "metadata": {},
       "output_type": "pyout",
       "prompt_number": 37,
       "text": [
        "array([[  11.1   ,   14.4   ,    3.836 ],\n",
        "       [  26.8   ,   36.2   ,    6.848 ],\n",
        "       [ 102.84  ,  126.96  ,   88.4744]])"
       ]
      }
     ],
     "prompt_number": 37
    },
    {
     "cell_type": "markdown",
     "metadata": {},
     "source": [
      "### Other basic operations"
     ]
    },
    {
     "cell_type": "code",
     "collapsed": false,
     "input": [
      "A = array(A,dtype='int')\n",
      "print A"
     ],
     "language": "python",
     "metadata": {},
     "outputs": [
      {
       "output_type": "stream",
       "stream": "stdout",
       "text": [
        "[[1 2 0]\n",
        " [4 5 0]\n",
        " [7 8 9]]\n"
       ]
      }
     ],
     "prompt_number": 38
    },
    {
     "cell_type": "code",
     "collapsed": false,
     "input": [
      "print A.sum() # sum of all elements\n",
      "print A.min()\n",
      "print A.max()"
     ],
     "language": "python",
     "metadata": {},
     "outputs": [
      {
       "output_type": "stream",
       "stream": "stdout",
       "text": [
        "36\n",
        "0\n",
        "9\n"
       ]
      }
     ],
     "prompt_number": 39
    },
    {
     "cell_type": "code",
     "collapsed": false,
     "input": [
      "print A.sum(axis=0)     # sum of each column\n",
      "print A.min(axis=1)     # min of each row\n",
      "print A.cumsum(axis=1)  # cumulative sum along each row"
     ],
     "language": "python",
     "metadata": {},
     "outputs": [
      {
       "output_type": "stream",
       "stream": "stdout",
       "text": [
        "[12 15  9]\n",
        "[0 0 7]\n",
        "[[ 1  3  3]\n",
        " [ 4  9  9]\n",
        " [ 7 15 24]]\n"
       ]
      }
     ],
     "prompt_number": 40
    },
    {
     "cell_type": "markdown",
     "metadata": {},
     "source": [
      "In Python *axis* refers to the dimensions of arrays; *axis=0* refers to the colums and *axis=1* to the rows."
     ]
    },
    {
     "cell_type": "markdown",
     "metadata": {},
     "source": [
      "### Stacking and splitting\n",
      "\n",
      "The *vstack* and *hstack* commands can be used to stack arrays and *hsplit* to split."
     ]
    },
    {
     "cell_type": "code",
     "collapsed": false,
     "input": [
      "A = floor(10*random.random((2,2)))\n",
      "print A\n",
      "B = floor(10*random.random((2,2)))\n",
      "print B"
     ],
     "language": "python",
     "metadata": {},
     "outputs": [
      {
       "output_type": "stream",
       "stream": "stdout",
       "text": [
        "[[ 8.  4.]\n",
        " [ 0.  9.]]\n",
        "[[ 6.  2.]\n",
        " [ 2.  6.]]\n"
       ]
      }
     ],
     "prompt_number": 41
    },
    {
     "cell_type": "code",
     "collapsed": false,
     "input": [
      "print np.vstack((A,B))\n",
      "print np.hstack((B,A))"
     ],
     "language": "python",
     "metadata": {},
     "outputs": [
      {
       "output_type": "stream",
       "stream": "stdout",
       "text": [
        "[[ 8.  4.]\n",
        " [ 0.  9.]\n",
        " [ 6.  2.]\n",
        " [ 2.  6.]]\n",
        "[[ 6.  2.  8.  4.]\n",
        " [ 2.  6.  0.  9.]]\n"
       ]
      }
     ],
     "prompt_number": 42
    },
    {
     "cell_type": "code",
     "collapsed": false,
     "input": [
      "A = floor(10*random.random((2,12)))\n",
      "print A"
     ],
     "language": "python",
     "metadata": {},
     "outputs": [
      {
       "output_type": "stream",
       "stream": "stdout",
       "text": [
        "[[ 6.  5.  8.  8.  8.  1.  0.  0.  5.  7.  8.  5.]\n",
        " [ 0.  1.  2.  9.  8.  0.  7.  4.  8.  1.  6.  1.]]\n"
       ]
      }
     ],
     "prompt_number": 43
    },
    {
     "cell_type": "code",
     "collapsed": false,
     "input": [
      "print np.hsplit(A,3)       # Split A into 3 arrays\n",
      "print np.hsplit(A,(3,4))   # Split A after the third and the fourth column"
     ],
     "language": "python",
     "metadata": {},
     "outputs": [
      {
       "output_type": "stream",
       "stream": "stdout",
       "text": [
        "[array([[ 6.,  5.,  8.,  8.],\n",
        "       [ 0.,  1.,  2.,  9.]]), array([[ 8.,  1.,  0.,  0.],\n",
        "       [ 8.,  0.,  7.,  4.]]), array([[ 5.,  7.,  8.,  5.],\n",
        "       [ 8.,  1.,  6.,  1.]])]\n",
        "[array([[ 6.,  5.,  8.],\n",
        "       [ 0.,  1.,  2.]]), array([[ 8.],\n",
        "       [ 9.]]), array([[ 8.,  1.,  0.,  0.,  5.,  7.,  8.,  5.],\n",
        "       [ 8.,  0.,  7.,  4.,  8.,  1.,  6.,  1.]])]\n"
       ]
      }
     ],
     "prompt_number": 44
    },
    {
     "cell_type": "markdown",
     "metadata": {},
     "source": [
      "**<u>Exercise 2:</u>**\n",
      "\n",
      "1. Create a vector with values ranging from 10 to 99\n",
      "2. Find indices of non-zero elements from [1,2,0,0,4,0]. Hint: use <em>np.nonzero</em>\n",
      "3. Declare a 8x8 matrix and fill it with a checkerboard pattern of zeros and ones, without a loop.\n",
      "4. Create a 5x3 matrix whose $(i,j)$ entry is equal to $i\\times j$ without using a loop. Hint: use <em>np.fromfunction</em>.\n",
      "5. Create a 4x4 array with numbers from a normal distribution with mean = 5 and standard deviation = 2.7. Hint: use <em>np.random.normal</em>. Sum the values of each row and store the result in a new array."
     ]
    },
    {
     "cell_type": "code",
     "collapsed": false,
     "input": [
      "#%load solutions/exercise2.py"
     ],
     "language": "python",
     "metadata": {},
     "outputs": [],
     "prompt_number": 51
    },
    {
     "cell_type": "markdown",
     "metadata": {},
     "source": [
      "Now let's work with some real data. Download the <em>stockholm_temp.txt</em> file in the same directory with this notebook. The following code checks if the file exists, opens it, prints the first lines and stores the data in an array."
     ]
    },
    {
     "cell_type": "code",
     "collapsed": false,
     "input": [
      "import os\n",
      "filename = 'stockholm_temp.txt'\n",
      "if os.path.exists(filename):\n",
      "    # look at the first 3 lines\n",
      "    with open(filename,'r') as f:\n",
      "        print '\\n'.join(f.readlines()[:3])\n",
      "    # alternative look at the first head lines\n",
      "    !head 'stockholm_temp.txt'\n",
      "    \n",
      "    data = np.loadtxt(filename) # alternative we can use genfromtxt command\n",
      "    \n",
      "else:\n",
      "    print 'Weather data does not exist, please download stockholm_temp.txt from Github.'"
     ],
     "language": "python",
     "metadata": {},
     "outputs": [
      {
       "output_type": "stream",
       "stream": "stdout",
       "text": [
        "1.800000000000000000e+03 1.000000000000000000e+00 1.000000000000000000e+00 -6.099999999999999645e+00\n",
        "\n",
        "1.800000000000000000e+03 1.000000000000000000e+00 2.000000000000000000e+00 -1.540000000000000036e+01\n",
        "\n",
        "1.800000000000000000e+03 1.000000000000000000e+00 3.000000000000000000e+00 -1.500000000000000000e+01\n",
        "\n"
       ]
      },
      {
       "output_type": "stream",
       "stream": "stdout",
       "text": [
        "1.800000000000000000e+03 1.000000000000000000e+00 1.000000000000000000e+00 -6.099999999999999645e+00\r\n",
        "1.800000000000000000e+03 1.000000000000000000e+00 2.000000000000000000e+00 -1.540000000000000036e+01\r\n",
        "1.800000000000000000e+03 1.000000000000000000e+00 3.000000000000000000e+00 -1.500000000000000000e+01\r\n",
        "1.800000000000000000e+03 1.000000000000000000e+00 4.000000000000000000e+00 -1.930000000000000071e+01\r\n",
        "1.800000000000000000e+03 1.000000000000000000e+00 5.000000000000000000e+00 -1.680000000000000071e+01\r\n",
        "1.800000000000000000e+03 1.000000000000000000e+00 6.000000000000000000e+00 -1.140000000000000036e+01\r\n",
        "1.800000000000000000e+03 1.000000000000000000e+00 7.000000000000000000e+00 -7.599999999999999645e+00\r\n",
        "1.800000000000000000e+03 1.000000000000000000e+00 8.000000000000000000e+00 -7.099999999999999645e+00\r\n",
        "1.800000000000000000e+03 1.000000000000000000e+00 9.000000000000000000e+00 -1.009999999999999964e+01\r\n",
        "1.800000000000000000e+03 1.000000000000000000e+00 1.000000000000000000e+01 -9.500000000000000000e+00\r\n"
       ]
      }
     ],
     "prompt_number": 64
    },
    {
     "cell_type": "markdown",
     "metadata": {},
     "source": [
      "Since the data are in the form\n",
      "*Year\n",
      "- Month\n",
      "- Day\n",
      "- Temperature*\n",
      "we would like to express them in a better way. We define a `dtype`, that is the type for each column: int, int, int, float:"
     ]
    },
    {
     "cell_type": "code",
     "collapsed": false,
     "input": [
      "dt = np.dtype([('Year', 'int16'), ('Month', 'int8'), ('Day', 'int8'), ('Temp', 'float64')])\n",
      "data = np.loadtxt(filename,dtype=dt)\n",
      "data[:5] "
     ],
     "language": "python",
     "metadata": {},
     "outputs": [
      {
       "metadata": {},
       "output_type": "pyout",
       "prompt_number": 65,
       "text": [
        "array([(1800, 1, 1, -6.1), (1800, 1, 2, -15.4), (1800, 1, 3, -15.0),\n",
        "       (1800, 1, 4, -19.3), (1800, 1, 5, -16.8)], \n",
        "      dtype=[('Year', '<i2'), ('Month', 'i1'), ('Day', 'i1'), ('Temp', '<f8')])"
       ]
      }
     ],
     "prompt_number": 65
    },
    {
     "cell_type": "markdown",
     "metadata": {},
     "source": [
      "We can now look for the example only on the temperatures:"
     ]
    },
    {
     "cell_type": "code",
     "collapsed": false,
     "input": [
      "data['Temp']"
     ],
     "language": "python",
     "metadata": {},
     "outputs": [
      {
       "metadata": {},
       "output_type": "pyout",
       "prompt_number": 69,
       "text": [
        "array([ -6.1, -15.4, -15. , ...,   4.9,   0.6,  -2.6])"
       ]
      }
     ],
     "prompt_number": 69
    },
    {
     "cell_type": "markdown",
     "metadata": {},
     "source": [
      "or find the all leap years:"
     ]
    },
    {
     "cell_type": "code",
     "collapsed": false,
     "input": [
      "leap = data[1::365]\n",
      "for i in range(len(leap)):\n",
      "    if np.fmod(leap['Year'][i],4)==0: \n",
      "        if np.fmod(leap['Year'][i],100)==0:\n",
      "            if np.fmod(leap['Year'][i],400)==0:\n",
      "                print leap['Year'][i]\n",
      "        else:\n",
      "            print leap['Year'][i]"
     ],
     "language": "python",
     "metadata": {},
     "outputs": [
      {
       "output_type": "stream",
       "stream": "stdout",
       "text": [
        "1804\n",
        "1808\n",
        "1808\n",
        "1812\n",
        "1816\n",
        "1820\n",
        "1824\n",
        "1828\n",
        "1832\n",
        "1836\n",
        "1840\n",
        "1844\n",
        "1848\n",
        "1852\n",
        "1856\n",
        "1860\n",
        "1864\n",
        "1868\n",
        "1872\n",
        "1876\n",
        "1880\n",
        "1884\n",
        "1888\n",
        "1892\n",
        "1896\n",
        "1904\n",
        "1908\n",
        "1912\n",
        "1916\n",
        "1920\n",
        "1924\n",
        "1928\n",
        "1932\n",
        "1936\n",
        "1940\n",
        "1944\n",
        "1948\n",
        "1952\n",
        "1956\n",
        "1960\n",
        "1964\n",
        "1968\n",
        "1972\n",
        "1976\n",
        "1980\n",
        "1984\n",
        "1988\n",
        "1992\n",
        "1996\n",
        "2000\n",
        "2004\n",
        "2008\n"
       ]
      }
     ],
     "prompt_number": 71
    },
    {
     "cell_type": "markdown",
     "metadata": {},
     "source": [
      "**<u>Exercise 3:</u>** Make an array with the temperatures of the 5th day of every month."
     ]
    },
    {
     "cell_type": "code",
     "collapsed": false,
     "input": [
      "#%load solutions/exercise3.py"
     ],
     "language": "python",
     "metadata": {},
     "outputs": [],
     "prompt_number": 72
    },
    {
     "cell_type": "markdown",
     "metadata": {},
     "source": [
      "### Linear algebra\n",
      "\n",
      "Handling *ndarrays* is really powerful. Of the many things one can do with NumPy's arrays is linear algebra:  "
     ]
    },
    {
     "cell_type": "code",
     "collapsed": false,
     "input": [
      "x = np.random.random(10)\n",
      "print x\n",
      "np.linalg.norm(x,np.inf)"
     ],
     "language": "python",
     "metadata": {},
     "outputs": [
      {
       "output_type": "stream",
       "stream": "stdout",
       "text": [
        "[ 0.45149877  0.50104054  0.1187654   0.46308123  0.66856975  0.09417234\n",
        "  0.35349371  0.54186185  0.7711733   0.16811552]\n"
       ]
      },
      {
       "metadata": {},
       "output_type": "pyout",
       "prompt_number": 74,
       "text": [
        "0.77117330418458396"
       ]
      }
     ],
     "prompt_number": 74
    },
    {
     "cell_type": "markdown",
     "metadata": {},
     "source": [
      "We can use this package to solve a linear system of equations $Ax=b$:"
     ]
    },
    {
     "cell_type": "code",
     "collapsed": false,
     "input": [
      "A = np.array([[0,2],[8,0]])\n",
      "b = np.array([1,2])\n",
      "print A\n",
      "print b"
     ],
     "language": "python",
     "metadata": {},
     "outputs": [
      {
       "output_type": "stream",
       "stream": "stdout",
       "text": [
        "[[0 2]\n",
        " [8 0]]\n",
        "[1 2]\n"
       ]
      }
     ],
     "prompt_number": 76
    },
    {
     "cell_type": "code",
     "collapsed": false,
     "input": [
      "x = np.linalg.solve(A,b)\n",
      "print x"
     ],
     "language": "python",
     "metadata": {},
     "outputs": [
      {
       "output_type": "stream",
       "stream": "stdout",
       "text": [
        "[ 0.25  0.5 ]\n"
       ]
      }
     ],
     "prompt_number": 77
    },
    {
     "cell_type": "markdown",
     "metadata": {},
     "source": [
      "We can also solve eigenvalue problems:"
     ]
    },
    {
     "cell_type": "code",
     "collapsed": false,
     "input": [
      "lamda,V = np.linalg.eig(A)\n",
      "print lamda\n",
      "print V"
     ],
     "language": "python",
     "metadata": {},
     "outputs": [
      {
       "output_type": "stream",
       "stream": "stdout",
       "text": [
        "[ 4. -4.]\n",
        "[[ 0.4472136  -0.4472136 ]\n",
        " [ 0.89442719  0.89442719]]\n"
       ]
      }
     ],
     "prompt_number": 79
    },
    {
     "cell_type": "markdown",
     "metadata": {},
     "source": [
      "Notice we have put two variables on the left of the equals sign, to assign the outputs of *eig()* to two different variables. Here *lamda* are the eigenvalues and the columns of *V* are the eigenvectors."
     ]
    },
    {
     "cell_type": "markdown",
     "metadata": {},
     "source": [
      "**<u>Exercise 4:</u>** Create a diagonal matrix using the *lamda* variable and then multiply from the left with V and from the right with the inverse of V (use *np.linalg.inv()*). What do you find?"
     ]
    },
    {
     "cell_type": "code",
     "collapsed": false,
     "input": [
      "#%load solutions/exercise4.py"
     ],
     "language": "python",
     "metadata": {},
     "outputs": [],
     "prompt_number": 80
    },
    {
     "cell_type": "code",
     "collapsed": false,
     "input": [
      "print dot(dot(V,np.diag(lamda)),np.linalg.inv(V))"
     ],
     "language": "python",
     "metadata": {},
     "outputs": [
      {
       "output_type": "stream",
       "stream": "stdout",
       "text": [
        "[[ 0.  2.]\n",
        " [ 8.  0.]]\n"
       ]
      }
     ],
     "prompt_number": 81
    },
    {
     "cell_type": "markdown",
     "metadata": {},
     "source": [
      " "
     ]
    },
    {
     "cell_type": "markdown",
     "metadata": {},
     "source": [
      " "
     ]
    },
    {
     "cell_type": "markdown",
     "metadata": {},
     "source": [
      " "
     ]
    },
    {
     "cell_type": "markdown",
     "metadata": {},
     "source": [
      "<h1 align=\"center\">Matplotlib</h1>\n",
      "\n",
      "[`Matplotlib`](http://matplotlib.org/) is the basic package of Python for plotting."
     ]
    },
    {
     "cell_type": "code",
     "collapsed": false,
     "input": [
      "%pylab inline --no-import-all\n",
      "import matplotlib.pyplot as plt"
     ],
     "language": "python",
     "metadata": {},
     "outputs": [
      {
       "output_type": "stream",
       "stream": "stdout",
       "text": [
        "Populating the interactive namespace from numpy and matplotlib\n"
       ]
      }
     ],
     "prompt_number": 2
    },
    {
     "cell_type": "markdown",
     "metadata": {},
     "source": [
      "The first line above ensures that our plots appear in the browser, instead in a separate window.\n",
      "\n",
      "Let's see a very simple example. Suppose we want to plot the function $\\sin(\\exp(x))$ on the interval $x\\in(0,4)$. We'll want to use the NumPy functions of the sine and exponential functions. (Note: the math module operates only on scalars so we *should* use NumPy in such cases)"
     ]
    },
    {
     "cell_type": "code",
     "collapsed": false,
     "input": [
      "x = np.linspace(0,np.pi,1000)\n",
      "f = np.sin(np.exp(x))\n",
      "g = np.cos(2*x)\n",
      "plt.plot(x,f)\n",
      "plt.plot(x,g)"
     ],
     "language": "python",
     "metadata": {},
     "outputs": [
      {
       "metadata": {},
       "output_type": "pyout",
       "prompt_number": 85,
       "text": [
        "[<matplotlib.lines.Line2D at 0x10cddf710>]"
       ]
      },
      {
       "metadata": {},
       "output_type": "display_data",
       "png": "[encoded data removed]",
       "text": [
        "<matplotlib.figure.Figure at 0x10cddf6d0>"
       ]
      }
     ],
     "prompt_number": 85
    },
    {
     "cell_type": "markdown",
     "metadata": {},
     "source": [
      "There are several ways to format a plot in python. Here we just mention only the basic functionality. It's straightforward to use them and you will generally only get into its advanced functionality if you are customizing the look of a plot for a publication. Matplotlib documentation is very good, have a look [here](http://matplotlib.sourceforge.net/users/pyplot_tutorial.html). You can also read [this tutorial](http://www.loria.fr/~rougier/teaching/matplotlib) for an easy start. More references are listed at the end of this tutorial."
     ]
    },
    {
     "cell_type": "markdown",
     "metadata": {},
     "source": [
      "The following code does the basic formatting for the plot above:"
     ]
    },
    {
     "cell_type": "code",
     "collapsed": false,
     "input": [
      "plt.figure(figsize=(10,6), dpi=100) # changing figure's shape\n",
      "plt.xlim(x.min()-0.1, x.max()+0.1) # adjusting horizonatal axis limits\n",
      "plt.ylim(f.min()-0.1, f.max()+0.1) # adjusting vertical axis limits\n",
      "plt.xticks([0, np.pi/2, np.pi],[r'$-\\pi$', r'$-\\pi/2$', r'$0$', r'$+\\pi/2$', r'$+\\pi$'],fontsize=14) # setting ticks\n",
      "plt.yticks([-1, 0, +1],[r'$-1$', r'$0$', r'$+1$'],fontsize=14) # setting ticks\n",
      "\n",
      "plt.plot(x, f, color=\"blue\", linewidth=2.5, linestyle=\"-\", label=\"$\\sin(e^x)$\") # changing color and thickness\n",
      "plt.plot(x, g, color=\"red\",  linewidth=2.5, linestyle=\"-\",  label=\"$\\sin(x)$\") # changing color and thickness\n",
      "plt.legend(loc='lower left',prop={'size':16}) # placing legend on bottom left\n",
      "plt.xlabel('$x$',fontsize=16) # horizontal axis name\n",
      "plt.ylabel('test functions',fontsize=16) # vertical axis name\n",
      "plt.title('Sample plot',fontsize=18) # title \n",
      "plt.grid(True) # enabling grid\n",
      "#plt.savefig('sine_functions.pdf')"
     ],
     "language": "python",
     "metadata": {},
     "outputs": [
      {
       "metadata": {},
       "output_type": "display_data",
       "png": "[encoded data removed]",
       "text": [
        "<matplotlib.figure.Figure at 0x10d169610>"
       ]
      }
     ],
     "prompt_number": 90
    },
    {
     "cell_type": "markdown",
     "metadata": {},
     "source": [
      "The image can be resized by dragging the handle in the lower right corner. Double clicking will return them to their original size.\n",
      "\n",
      "One thing to be aware of is that by default, the *figure* object is cleared at the end of each cell, so you will need to issue all plotting commands for a single figure in a single cell.\n"
     ]
    },
    {
     "cell_type": "code",
     "collapsed": false,
     "input": [
      "plt.savefig('sine_functions.pdf')"
     ],
     "language": "python",
     "metadata": {},
     "outputs": [
      {
       "metadata": {},
       "output_type": "display_data",
       "text": [
        "<matplotlib.figure.Figure at 0x1097ca850>"
       ]
      }
     ],
     "prompt_number": 87
    },
    {
     "cell_type": "markdown",
     "metadata": {},
     "source": [
      "Go on and open the *pdf* file. It is empty! Now uncomment the save line in the previous block."
     ]
    },
    {
     "cell_type": "markdown",
     "metadata": {},
     "source": [
      "### 3D-plotting\n",
      "\n",
      "Let's define the following function:"
     ]
    },
    {
     "cell_type": "code",
     "collapsed": false,
     "input": [
      "alpha = 0.7\n",
      "phi_ext = 2*np.pi*0.5\n",
      "\n",
      "def flux_qubit_potential(phi_m, phi_p):\n",
      "    return 2 + alpha - 2*np.cos(phi_p)*np.cos(phi_m) - alpha*np.cos(phi_ext - 2*phi_p)"
     ],
     "language": "python",
     "metadata": {},
     "outputs": [],
     "prompt_number": 13
    },
    {
     "cell_type": "markdown",
     "metadata": {},
     "source": [
      "Create a mesh:"
     ]
    },
    {
     "cell_type": "code",
     "collapsed": false,
     "input": [
      "phi_m = np.linspace(0, 2*np.pi, 100)\n",
      "phi_p = np.linspace(0, 2*np.pi, 100)\n",
      "X,Y = np.meshgrid(phi_p, phi_m)\n",
      "Z = flux_qubit_potential(X, Y).T"
     ],
     "language": "python",
     "metadata": {},
     "outputs": [],
     "prompt_number": 14
    },
    {
     "cell_type": "markdown",
     "metadata": {},
     "source": [
      "and now plot the surface:"
     ]
    },
    {
     "cell_type": "code",
     "collapsed": false,
     "input": [
      "from mpl_toolkits.mplot3d.axes3d import Axes3D\n",
      "from matplotlib import cm\n",
      "fig = plt.figure(figsize=(14,6))\n",
      "\n",
      "# `ax` is a 3D-aware axis instance because of the projection='3d' keyword argument to add_subplot\n",
      "ax = fig.add_subplot(1, 2, 1, projection='3d')\n",
      "\n",
      "p = ax.plot_surface(X, Y, Z, rstride=4, cstride=4, linewidth=0)\n",
      "\n",
      "# surface_plot with color grading and color bar\n",
      "ax = fig.add_subplot(1, 2, 2, projection='3d')\n",
      "p = ax.plot_surface(X, Y, Z, rstride=1, cstride=1, cmap=cm.coolwarm, linewidth=0, antialiased=False)\n",
      "cb = fig.colorbar(p, shrink=0.5) # enables colorbar"
     ],
     "language": "python",
     "metadata": {},
     "outputs": [
      {
       "metadata": {},
       "output_type": "display_data",
       "png": "[encoded data removed]",
       "text": [
        "<matplotlib.figure.Figure at 0x106226b50>"
       ]
      }
     ],
     "prompt_number": 17
    },
    {
     "cell_type": "markdown",
     "metadata": {},
     "source": [
      "**<u>Exercise 5:</u>** Use the weather data variable defined previously to plot the temperature over the years. Put a title, axis labels and make the plot wide enough. Hint: the x-axis represents time and it can be evaluated by *Year + Month/12.0 + Day/365.0*."
     ]
    },
    {
     "cell_type": "code",
     "collapsed": false,
     "input": [
      "#%load solutions/exercise5.py"
     ],
     "language": "python",
     "metadata": {},
     "outputs": [],
     "prompt_number": 19
    },
    {
     "cell_type": "markdown",
     "metadata": {},
     "source": [
      "There are many more fancy things to do with Python visualization package. Have a look at the following links and check the capapilities of [`plotly`](https://plot.ly/) and [`Matplotlib`](http://matplotlib.org/):\n",
      "\n",
      "- [http://nbviewer.ipython.org/gist/ketch/8554686](http://nbviewer.ipython.org/gist/ketch/8554686)\n",
      "- [http://nbviewer.ipython.org/gist/rjleveque/8994740](http://nbviewer.ipython.org/gist/rjleveque/8994740)\n"
     ]
    },
    {
     "cell_type": "markdown",
     "metadata": {},
     "source": [
      " "
     ]
    },
    {
     "cell_type": "markdown",
     "metadata": {},
     "source": [
      " "
     ]
    },
    {
     "cell_type": "markdown",
     "metadata": {},
     "source": [
      " "
     ]
    },
    {
     "cell_type": "markdown",
     "metadata": {},
     "source": [
      "## References:\n",
      "\n",
      "#### Numpy:\n",
      "\n",
      "- [Numpy tutorial](http://www.scipy.org/Tentative_NumPy_Tutorial) \n",
      "- [Numpy tutorial video](http://showmedo.com/videotutorials/series?name=i9KuJuNcG) \n",
      "- [NumPy: lock 'n load](http://mentat.za.net/numpy/intro/intro.html)\n",
      "- [Numpy for Matlab users](http://www.scipy.org/NumPy_for_Matlab_Users)\n",
      "- [Hans Petter Langtangen book](http://link.springer.com/book/10.1007/978-3-642-02475-7/page/1)\n",
      "\n",
      "\n",
      "#### Matplotlib\n",
      "\n",
      "- [Nicolas P. Rougier matplotlib tutorial](http://www.loria.fr/~rougier/teaching/matplotlib/)\n",
      "- [Pyplot tutorial](http://matplotlib.org/users/pyplot_tutorial.html)\n",
      "- [Matplotlib gallery](http://matplotlib.org/gallery.html)\n",
      "\n",
      "\n",
      "#### More general\n",
      "\n",
      "- [General Python tutorial](http://docs.python.org/tutorial/)\n",
      "- [Dive Into Python](http://diveintopython.org/)"
     ]
    },
    {
     "cell_type": "markdown",
     "metadata": {},
     "source": [
      "### Other packages\n",
      "Besides numpy and matplotlib, there are many other useful Python packages for scientific computing. Here is a short list:  \n",
      "\n",
      "- [scipy](http://www.scipy.org/) - optimization, ODEs, sparse linear algebra, etc.\n",
      "- [sympy](http://sympy.org/) - symbolic computation\n",
      "- [mpi4py](http://mpi4py.scipy.org/) - parallel computing\n",
      "- [petsc4py](http://code.google.com/p/petsc4py/), [pytrilinos](http://trilinos.sandia.gov/packages/pytrilinos/) - Python bindings for the \"big 2\" parallel scientific libraries\n",
      "- [pyCUDA](http://mathema.tician.de/software/pycuda), [pyOpenCL](http://mathema.tician.de/software/pyopencl) - GPGPU computing\n",
      "- [FENiCS](http://fenicsproject.org/), [FiPy](http://www.ctcms.nist.gov/fipy/), [PyClaw](http://numerics.kaust.edu.sa/pyclaw/) - solve complicated PDEs with very sophisticated numerical methods\n",
      "- [networkX](http://networkx.github.com/), [pygraphviz](http://networkx.lanl.gov/pygraphviz/) - graphs"
     ]
    }
   ],
   "metadata": {}
  }
 ]
}