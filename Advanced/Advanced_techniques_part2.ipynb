{
 "metadata": {
  "name": ""
 },
 "nbformat": 3,
 "nbformat_minor": 0,
 "worksheets": [
  {
   "cells": [
    {
     "cell_type": "markdown",
     "metadata": {},
     "source": [
      "# Machine Learning and Optimization with Python\n",
      "This part of the advanced tutorial focuses more on some specific packages.\n",
      "The topics covered in this part are:\n",
      "\n",
      "- Easy and effective Machine Learning in Python with [Scikit-Learn](http://scikit-learn.org/stable/). Presented by [Maruan Al-Shedivat](https://github.com/mar-one).\n",
      "- Optimization in Python with [OpenOpt](http://openopt.org/). Presented by [Yiannis Hadjimichael](https://github.com/hadjimy).\n",
      "\n",
      "**Prerequisites:** *Basic and Intermediate tutorials or some experience with Pyhton, Numpy, Scipy, Matplotlib (optional). Basic knowledge in machine learning and optimization*."
     ]
    },
    {
     "cell_type": "markdown",
     "metadata": {},
     "source": [
      "## 1. Machine Learning in Python\n",
      "Machine learning is a hot and popular topic nowadays. It is about building programs with tunable parameters that are adjusted automatically by adapting to previously seen data. It intervenes litteraly every sphere of our life ranging from science, engineering, and industry to economics, sociology, and even [personal relationships](http://www.wired.com/wiredscience/2014/01/how-to-hack-okcupid/all/). So if it is applicable everywhere, we need to have handy tools for doing machine learing."
     ]
    },
    {
     "cell_type": "code",
     "collapsed": false,
     "input": [
      "# Start pylab inline mode, so figures will appear in the notebook\n",
      "%pylab inline"
     ],
     "language": "python",
     "metadata": {},
     "outputs": [
      {
       "output_type": "stream",
       "stream": "stdout",
       "text": [
        "Populating the interactive namespace from numpy and matplotlib\n"
       ]
      }
     ],
     "prompt_number": 1
    },
    {
     "cell_type": "markdown",
     "metadata": {},
     "source": [
      "### 1.1. Quick Overview of Scikit-Learn\n",
      "*Adapted from http://scikit-learn.org/stable/tutorial/basic/tutorial.html*"
     ]
    },
    {
     "cell_type": "code",
     "collapsed": false,
     "input": [
      "# Load a dataset from already available in scikit-learn\n",
      "from sklearn import datasets\n",
      "digits = datasets.load_digits()\n",
      "type(digits)"
     ],
     "language": "python",
     "metadata": {},
     "outputs": [
      {
       "metadata": {},
       "output_type": "pyout",
       "prompt_number": 2,
       "text": [
        "sklearn.datasets.base.Bunch"
       ]
      }
     ],
     "prompt_number": 2
    },
    {
     "cell_type": "code",
     "collapsed": false,
     "input": [
      "digits.data"
     ],
     "language": "python",
     "metadata": {},
     "outputs": []
    },
    {
     "cell_type": "code",
     "collapsed": false,
     "input": [
      "digits.target"
     ],
     "language": "python",
     "metadata": {},
     "outputs": []
    },
    {
     "cell_type": "code",
     "collapsed": false,
     "input": [
      "from sklearn import svm\n",
      "clf = svm.SVC(gamma=0.001, C=100.)\n",
      "clf.fit(digits.data[:-1], digits.target[:-1])\n",
      "\n",
      "print \"Original label:\", digits.target[5]\n",
      "print \"Predicted label:\", clf.predict(digits.data[5])\n",
      "\n",
      "plt.figure(figsize=(3, 3))\n",
      "plt.imshow(digits.images[5], interpolation='nearest', cmap=plt.cm.binary)"
     ],
     "language": "python",
     "metadata": {},
     "outputs": []
    },
    {
     "cell_type": "markdown",
     "metadata": {},
     "source": [
      "### 1.2. Data representation in Scikit-learn\n",
      "*Adapted from https://github.com/jakevdp/sklearn_scipy2013*"
     ]
    },
    {
     "cell_type": "markdown",
     "metadata": {},
     "source": [
      "Data in scikit-learn, with very few exceptions, is assumed to be stored as a **two-dimensional array**, of size `[n_samples, n_features]`, and most of machine learning algorithms implemented in scikit-learn expect data to be stored this way.\n",
      "\n",
      "- **n_samples:** The number of samples: each sample is an item to process (e.g. classify). A sample can be a document, a picture, a sound, a video, an astronomical object, a row in database or CSV file, or whatever you can describe with a fixed set of quantitative traits.\n",
      "- **n_features:** The number of features or distinct traits that can be used to describe each item in a quantitative manner. Features are generally real-valued, but may be boolean or discrete-valued in some cases.\n",
      "\n",
      "The number of features must be fixed in advance. However it can be very high dimensional (e.g. millions of features) with most of them being zeros for a given sample. This is a case where scipy.sparse matrices can be useful, in that they are much more memory-efficient than numpy arrays."
     ]
    },
    {
     "cell_type": "markdown",
     "metadata": {},
     "source": [
      "#### 1.2.1. Example: `iris dataset`\n",
      "To understand these simple concepts better, let's work with an example: `iris-dataset`."
     ]
    },
    {
     "cell_type": "code",
     "collapsed": false,
     "input": [
      "# Don't know what iris is? Run this code to generate some pictures.\n",
      "from IPython.core.display import Image, display\n",
      "display(Image(filename='figures/iris_setosa.jpg'))\n",
      "print \"Iris Setosa\\n\"\n",
      "\n",
      "display(Image(filename='figures/iris_versicolor.jpg'))\n",
      "print \"Iris Versicolor\\n\"\n",
      "\n",
      "display(Image(filename='figures/iris_virginica.jpg'))\n",
      "print \"Iris Virginica\""
     ],
     "language": "python",
     "metadata": {},
     "outputs": []
    },
    {
     "cell_type": "code",
     "collapsed": false,
     "input": [
      "# Load the dataset from scikit-learn\n",
      "from sklearn.datasets import load_iris\n",
      "iris = load_iris()\n",
      "type(iris) # The resulting dataset is a Bunch object"
     ],
     "language": "python",
     "metadata": {},
     "outputs": []
    },
    {
     "cell_type": "code",
     "collapsed": false,
     "input": [
      "iris.keys()"
     ],
     "language": "python",
     "metadata": {},
     "outputs": []
    },
    {
     "cell_type": "code",
     "collapsed": false,
     "input": [
      "print iris.DESCR"
     ],
     "language": "python",
     "metadata": {},
     "outputs": []
    },
    {
     "cell_type": "code",
     "collapsed": false,
     "input": [
      "# Number of samples and features\n",
      "iris.data.shape\n",
      "print \"Number of samples:\", iris.data.shape[0]\n",
      "print \"Number of features:\", iris.data.shape[1]\n",
      "print iris.data[0]"
     ],
     "language": "python",
     "metadata": {},
     "outputs": []
    },
    {
     "cell_type": "code",
     "collapsed": false,
     "input": [
      "# Target (label) names\n",
      "print iris.target_names"
     ],
     "language": "python",
     "metadata": {},
     "outputs": []
    },
    {
     "cell_type": "code",
     "collapsed": false,
     "input": [
      "# Visualize the data\n",
      "x_index = 0\n",
      "y_index = 1\n",
      "\n",
      "# this formatter will label the colorbar with the correct target names\n",
      "formatter = plt.FuncFormatter(lambda i, *args: iris.target_names[int(i)])\n",
      "\n",
      "plt.figure(figsize=(7, 5))\n",
      "plt.scatter(iris.data[:, x_index], iris.data[:, y_index], c=iris.target)\n",
      "plt.colorbar(ticks=[0, 1, 2], format=formatter)\n",
      "plt.xlabel(iris.feature_names[x_index])\n",
      "plt.ylabel(iris.feature_names[y_index])"
     ],
     "language": "python",
     "metadata": {},
     "outputs": []
    },
    {
     "cell_type": "markdown",
     "metadata": {},
     "source": [
      "**Quick Exercise:**\n",
      "Change `x_index` and `y_index` and find the 2D projection of the data which maximally separate all three classes."
     ]
    },
    {
     "cell_type": "code",
     "collapsed": false,
     "input": [
      "# your code goes here"
     ],
     "language": "python",
     "metadata": {},
     "outputs": []
    },
    {
     "cell_type": "markdown",
     "metadata": {},
     "source": [
      "#### 1.2.2. Other available datasets\n",
      "Scikit-learn makes available a host of datasets for testing learning algorithms. They come in three flavors:\n",
      "\n",
      "- **Packaged Data**: these small datasets are packaged with the scikit-learn installation, and can be downloaded using the tools in `sklearn.datasets.load_*`\n",
      "- **Downloadable Data**: these larger datasets are available for download, and scikit-learn includes tools which streamline this process. These tools can be found in `sklearn.datasets.fetch_*`\n",
      "- **Generated Data**: there are several datasets which are generated from models based on a random seed. These are available in the `sklearn.datasets.make_*`"
     ]
    },
    {
     "cell_type": "code",
     "collapsed": false,
     "input": [
      "# Where the downloaded datasets via fetch_scripts are stored\n",
      "from sklearn.datasets import get_data_home\n",
      "get_data_home()"
     ],
     "language": "python",
     "metadata": {},
     "outputs": []
    },
    {
     "cell_type": "code",
     "collapsed": false,
     "input": [
      "# How to fetch an external dataset\n",
      "from sklearn import datasets"
     ],
     "language": "python",
     "metadata": {},
     "outputs": []
    },
    {
     "cell_type": "markdown",
     "metadata": {},
     "source": [
      "Now you can type `datasets.fetch_<TAB>` and a list of available datasets will pop up."
     ]
    },
    {
     "cell_type": "markdown",
     "metadata": {},
     "source": [
      "#### Exercise:\n",
      "Fetch the dataset `olivetti_faces`. Visualize various 2D projections for the data. Find the best in terms of separability."
     ]
    },
    {
     "cell_type": "code",
     "collapsed": false,
     "input": [
      "from sklearn.datasets import fetch_olivetti_faces"
     ],
     "language": "python",
     "metadata": {},
     "outputs": []
    },
    {
     "cell_type": "code",
     "collapsed": false,
     "input": [
      "# your code goes here\n",
      "# fetch the faces data\n",
      "# Use a script like above to plot the faces image data.\n",
      "# Hint: plt.cm.bone is a good colormap for this data."
     ],
     "language": "python",
     "metadata": {},
     "outputs": []
    },
    {
     "cell_type": "code",
     "collapsed": false,
     "input": [
      "#%load solutions/sklearn_vis_data.py"
     ],
     "language": "python",
     "metadata": {},
     "outputs": [],
     "prompt_number": 101
    },
    {
     "cell_type": "markdown",
     "metadata": {},
     "source": [
      "### 1.3. Linear regression and classification\n",
      "In this section, we explain how to use scikit-learn library for regression and classification. We discuss `Estimator` class - the base class for many of the scikit-learn models - and work through some examples."
     ]
    },
    {
     "cell_type": "code",
     "collapsed": false,
     "input": [
      "from sklearn.datasets import load_boston\n",
      "data = load_boston()\n",
      "print data.DESCR"
     ],
     "language": "python",
     "metadata": {},
     "outputs": [
      {
       "output_type": "stream",
       "stream": "stdout",
       "text": [
        "Boston House Prices dataset\n",
        "\n",
        "Notes\n",
        "------\n",
        "Data Set Characteristics:  \n",
        "\n",
        "    :Number of Instances: 506 \n",
        "\n",
        "    :Number of Attributes: 13 numeric/categorical predictive\n",
        "    \n",
        "    :Median Value (attribute 14) is usually the target\n",
        "\n",
        "    :Attribute Information (in order):\n",
        "        - CRIM     per capita crime rate by town\n",
        "        - ZN       proportion of residential land zoned for lots over 25,000 sq.ft.\n",
        "        - INDUS    proportion of non-retail business acres per town\n",
        "        - CHAS     Charles River dummy variable (= 1 if tract bounds river; 0 otherwise)\n",
        "        - NOX      nitric oxides concentration (parts per 10 million)\n",
        "        - RM       average number of rooms per dwelling\n",
        "        - AGE      proportion of owner-occupied units built prior to 1940\n",
        "        - DIS      weighted distances to five Boston employment centres\n",
        "        - RAD      index of accessibility to radial highways\n",
        "        - TAX      full-value property-tax rate per $10,000\n",
        "        - PTRATIO  pupil-teacher ratio by town\n",
        "        - B        1000(Bk - 0.63)^2 where Bk is the proportion of blacks by town\n",
        "        - LSTAT    % lower status of the population\n",
        "        - MEDV     Median value of owner-occupied homes in $1000's\n",
        "\n",
        "    :Missing Attribute Values: None\n",
        "\n",
        "    :Creator: Harrison, D. and Rubinfeld, D.L.\n",
        "\n",
        "This is a copy of UCI ML housing dataset.\n",
        "http://archive.ics.uci.edu/ml/datasets/Housing\n",
        "\n",
        "\n",
        "This dataset was taken from the StatLib library which is maintained at Carnegie Mellon University.\n",
        "\n",
        "The Boston house-price data of Harrison, D. and Rubinfeld, D.L. 'Hedonic\n",
        "prices and the demand for clean air', J. Environ. Economics & Management,\n",
        "vol.5, 81-102, 1978.   Used in Belsley, Kuh & Welsch, 'Regression diagnostics\n",
        "...', Wiley, 1980.   N.B. Various transformations are used in the table on\n",
        "pages 244-261 of the latter.\n",
        "\n",
        "The Boston house-price data has been used in many machine learning papers that address regression\n",
        "problems.   \n",
        "     \n",
        "**References**\n",
        "\n",
        "   - Belsley, Kuh & Welsch, 'Regression diagnostics: Identifying Influential Data and Sources of Collinearity', Wiley, 1980. 244-261.\n",
        "   - Quinlan,R. (1993). Combining Instance-Based and Model-Based Learning. In Proceedings on the Tenth International Conference of Machine Learning, 236-243, University of Massachusetts, Amherst. Morgan Kaufmann.\n",
        "   - many more! (see http://archive.ics.uci.edu/ml/datasets/Housing)\n",
        "\n"
       ]
      }
     ],
     "prompt_number": 3
    },
    {
     "cell_type": "code",
     "collapsed": false,
     "input": [
      "# Plot histogram for real estate prices\n",
      "plt.hist(data.target)\n",
      "plt.xlabel('price ($1000s)')\n",
      "plt.ylabel('count')"
     ],
     "language": "python",
     "metadata": {},
     "outputs": [
      {
       "metadata": {},
       "output_type": "pyout",
       "prompt_number": 4,
       "text": [
        "<matplotlib.text.Text at 0x109f04450>"
       ]
      },
      {
       "metadata": {},
       "output_type": "display_data",
       "png": "[encoded data removed]",
       "text": [
        "<matplotlib.figure.Figure at 0x109efb210>"
       ]
      }
     ],
     "prompt_number": 4
    },
    {
     "cell_type": "markdown",
     "metadata": {},
     "source": [
      "**Quick Exercise:** Try sctter-plot several 2D projections of the data. What you can infer from the plots?"
     ]
    },
    {
     "cell_type": "code",
     "collapsed": false,
     "input": [
      "# your code goes here"
     ],
     "language": "python",
     "metadata": {},
     "outputs": []
    },
    {
     "cell_type": "markdown",
     "metadata": {},
     "source": [
      "Every algorithm is exposed in scikit-learn via an `Estimator` object. For instance a linear regression is:"
     ]
    },
    {
     "cell_type": "code",
     "collapsed": false,
     "input": [
      "from sklearn.linear_model import LinearRegression\n",
      "clf = LinearRegression()\n",
      "clf.fit(data.data, data.target)"
     ],
     "language": "python",
     "metadata": {},
     "outputs": [
      {
       "metadata": {},
       "output_type": "pyout",
       "prompt_number": 14,
       "text": [
        "LinearRegression(copy_X=True, fit_intercept=True, normalize=False)"
       ]
      }
     ],
     "prompt_number": 14
    },
    {
     "cell_type": "code",
     "collapsed": false,
     "input": [
      "predicted = clf.predict(data.data)"
     ],
     "language": "python",
     "metadata": {},
     "outputs": []
    },
    {
     "cell_type": "code",
     "collapsed": false,
     "input": [
      "# Plot the predicted price vs. true price\n",
      "plt.scatter(data.target, predicted)\n",
      "plt.plot([0, 50], [0, 50], '--k')\n",
      "plt.axis('tight')\n",
      "plt.xlabel('True price ($1000s)')\n",
      "plt.ylabel('Predicted price ($1000s)')"
     ],
     "language": "python",
     "metadata": {},
     "outputs": []
    },
    {
     "cell_type": "markdown",
     "metadata": {},
     "source": [
      "Examples of regression type problems in machine learning:\n",
      "\n",
      "- **Sales:** given consumer data, predict how much they will spend\n",
      "- **Advertising:** given information about a user, predict the click-through rate for a web ad.\n",
      "- **Collaborative Filtering:** given a collection of user-ratings for movies, predict preferences for other movies & users.\n",
      "- **Astronomy:** given observations of galaxies, predict their mass or redshift"
     ]
    },
    {
     "cell_type": "markdown",
     "metadata": {},
     "source": [
      "Another example of regularized linear regression on a synthetic data set."
     ]
    },
    {
     "cell_type": "code",
     "collapsed": false,
     "input": [
      "import numpy as np\n",
      "from sklearn.linear_model import LinearRegression\n",
      "\n",
      "rng = np.random.RandomState(0)\n",
      "x = 2 * rng.rand(100) - 1\n",
      "\n",
      "f = lambda t: 1.2 * t ** 2 + .1 * t ** 3 - .4 * t ** 5 - .5 * t ** 9\n",
      "y = f(x) + .4 * rng.normal(size=100)\n",
      "\n",
      "plt.figure(figsize=(7, 5))\n",
      "plt.scatter(x, y, s=4)"
     ],
     "language": "python",
     "metadata": {},
     "outputs": [
      {
       "metadata": {},
       "output_type": "pyout",
       "prompt_number": 9,
       "text": [
        "<matplotlib.collections.PathCollection at 0x10a1b4f10>"
       ]
      },
      {
       "metadata": {},
       "output_type": "display_data",
       "png": "[encoded data removed]",
       "text": [
        "<matplotlib.figure.Figure at 0x10a186990>"
       ]
      }
     ],
     "prompt_number": 9
    },
    {
     "cell_type": "code",
     "collapsed": false,
     "input": [
      "x_test = np.linspace(-1, 1, 100)\n",
      "\n",
      "for k in [4, 9]:\n",
      "    X = np.array([x**i for i in range(k)]).T\n",
      "    X_test = np.array([x_test**i for i in range(k)]).T\n",
      "    order4 = LinearRegression()\n",
      "    order4.fit(X, y)\n",
      "    plt.plot(x_test, order4.predict(X_test), label='%i-th order'%(k))\n",
      "\n",
      "plt.legend(loc='best')\n",
      "plt.axis('tight')\n",
      "plt.title('Fitting a 4th and a 9th order polynomial')"
     ],
     "language": "python",
     "metadata": {},
     "outputs": [
      {
       "metadata": {},
       "output_type": "pyout",
       "prompt_number": 28,
       "text": [
        "<matplotlib.text.Text at 0x10ad24910>"
       ]
      },
      {
       "metadata": {},
       "output_type": "display_data",
       "png": "[encoded data removed]",
       "text": [
        "<matplotlib.figure.Figure at 0x10ad0f4d0>"
       ]
      }
     ],
     "prompt_number": 28
    },
    {
     "cell_type": "code",
     "collapsed": false,
     "input": [
      "# Let's look at the ground truth\n",
      "plt.figure()\n",
      "plt.scatter(x, y, s=4)\n",
      "plt.plot(x_test, f(x_test), label=\"truth\")\n",
      "plt.axis('tight')\n",
      "plt.title('Ground truth (9th order polynomial)')"
     ],
     "language": "python",
     "metadata": {},
     "outputs": [
      {
       "metadata": {},
       "output_type": "pyout",
       "prompt_number": 22,
       "text": [
        "<matplotlib.text.Text at 0x10aa2f350>"
       ]
      },
      {
       "metadata": {},
       "output_type": "display_data",
       "png": "[encoded data removed]",
       "text": [
        "<matplotlib.figure.Figure at 0x10a0b4250>"
       ]
      }
     ],
     "prompt_number": 22
    },
    {
     "cell_type": "markdown",
     "metadata": {},
     "source": [
      "Let's use [Ridge regression](http://scikit-learn.org/stable/modules/generated/sklearn.linear_model.Ridge.html) (with l1-norm regularization)"
     ]
    },
    {
     "cell_type": "code",
     "collapsed": false,
     "input": [
      "from sklearn.linear_model import Ridge\n",
      "\n",
      "for k in [20]:\n",
      "    X = np.array([x**i for i in range(k)]).T\n",
      "    X_test = np.array([x_test**i for i in range(k)]).T\n",
      "    order4 = Ridge(alpha=0.3)\n",
      "    order4.fit(X, y)\n",
      "    plt.plot(x_test, order4.predict(X_test), label='%i-th order'%(k))\n",
      "plt.plot(x_test, f(x_test), label=\"truth\")\n",
      "plt.scatter(x, y, s=4)\n",
      "plt.legend(loc='best')\n",
      "plt.axis('tight')\n",
      "plt.title('Fitting a 4th and a 9th order polynomial')"
     ],
     "language": "python",
     "metadata": {},
     "outputs": [
      {
       "metadata": {},
       "output_type": "pyout",
       "prompt_number": 72,
       "text": [
        "<matplotlib.text.Text at 0x10c46bd50>"
       ]
      },
      {
       "metadata": {},
       "output_type": "display_data",
       "png": "[encoded data removed]",
       "text": [
        "<matplotlib.figure.Figure at 0x10c3d3cd0>"
       ]
      }
     ],
     "prompt_number": 72
    },
    {
     "cell_type": "code",
     "collapsed": false,
     "input": [
      "plt.ylim?"
     ],
     "language": "python",
     "metadata": {},
     "outputs": [],
     "prompt_number": 67
    },
    {
     "cell_type": "markdown",
     "metadata": {},
     "source": [
      "#### Exercise:\n",
      "For this exercise, you need to classify iris data with nearest neighbors classifier and with linear support vector classifier (LinearSVC).\n",
      "In order to measure the performace, calculate the accuracy or just use `clf.score` function built-in into the `Estimator` object."
     ]
    },
    {
     "cell_type": "code",
     "collapsed": false,
     "input": [
      "from __future__ import division  # turn off division truncation -- division will be floating point by default\n",
      "from sklearn.neighbors import KNeighborsClassifier\n",
      "from sklearn.svm import LinearSVC\n",
      "from sklearn.datasets import load_iris\n",
      "iris = load_iris()\n",
      "\n",
      "# Splitting the data into train and test sets\n",
      "indices = np.random.permutation(range(iris.data.shape[0]))\n",
      "train_sz = floor(0.8*iris.data.shape[0])\n",
      "X, y = iris.data[indices[:train_sz],:], iris.target[indices[:train_sz]]\n",
      "Xt, yt = iris.data[indices[train_sz:],:], iris.target[indices[train_sz:]]\n",
      "\n",
      "# your code goes here"
     ],
     "language": "python",
     "metadata": {},
     "outputs": [],
     "prompt_number": 86
    },
    {
     "cell_type": "code",
     "collapsed": false,
     "input": [
      "#%load solutions/iris_classification.py"
     ],
     "language": "python",
     "metadata": {},
     "outputs": [],
     "prompt_number": 92
    },
    {
     "cell_type": "markdown",
     "metadata": {},
     "source": [
      "### 1.4. Approaches to validation and testing\n",
      "It is usually an arduous and time consuming task to write cross-validation or other testing wrappers for your models. Scikit-learn allows you validate your models out-of-the-box. Let's have a look at how to do this."
     ]
    },
    {
     "cell_type": "code",
     "collapsed": false,
     "input": [
      "from sklearn import cross_validation\n",
      "X, Xt, y, yt = cross_validation.train_test_split(iris.data, iris.target, test_size=0.4, random_state=0)\n",
      "print X.shape, y.shape\n",
      "print Xt.shape, yt.shape"
     ],
     "language": "python",
     "metadata": {},
     "outputs": [
      {
       "output_type": "stream",
       "stream": "stdout",
       "text": [
        "(90, 4) (90,)\n",
        "(60, 4) (60,)\n"
       ]
      }
     ],
     "prompt_number": 94
    },
    {
     "cell_type": "code",
     "collapsed": false,
     "input": [
      "# Cross-validating your models in one line\n",
      "scores = cross_validation.cross_val_score(svc, iris.data, iris.target, cv=5,)\n",
      "print scores\n",
      "print scores.mean()"
     ],
     "language": "python",
     "metadata": {},
     "outputs": [
      {
       "output_type": "stream",
       "stream": "stdout",
       "text": [
        "[ 0.9         0.9         0.96666667  1.          1.        ]\n",
        "0.953333333333\n"
       ]
      }
     ],
     "prompt_number": 96
    },
    {
     "cell_type": "code",
     "collapsed": false,
     "input": [
      "cross_validation.cross_val_score?"
     ],
     "language": "python",
     "metadata": {},
     "outputs": [],
     "prompt_number": 97
    },
    {
     "cell_type": "code",
     "collapsed": false,
     "input": [
      "# Calculate F1-measure (or any other score)\n",
      "from sklearn import metrics\n",
      "f1_scores = cross_validation.cross_val_score(svc, iris.data, iris.target, cv=5, scoring='f1')\n",
      "print f1_scores\n",
      "print f1_scores.mean()"
     ],
     "language": "python",
     "metadata": {},
     "outputs": [
      {
       "output_type": "stream",
       "stream": "stdout",
       "text": [
        "[ 0.89769821  0.89974937  0.96658312  1.          1.        ]\n",
        "0.952806141526\n"
       ]
      }
     ],
     "prompt_number": 100
    },
    {
     "cell_type": "markdown",
     "metadata": {},
     "source": [
      "**Quick Exercise:** Do the same CV-evaluation of the KNN classifier. Find the best number of neares neighbors."
     ]
    },
    {
     "cell_type": "code",
     "collapsed": false,
     "input": [],
     "language": "python",
     "metadata": {},
     "outputs": []
    },
    {
     "cell_type": "markdown",
     "metadata": {},
     "source": [
      "### 1.5. What to learn next?\n",
      "If you would like to start using Scikit-learn for your machine learning tasks, the most right way is to jump into it and refer to [the documentation](http://scikit-learn.org/stable/documentation.html) from time to time. When you accuire enough skills in it, you can go and check out the following resources:\n",
      "\n",
      "- [A tutorial from PyCon 2013](https://github.com/jakevdp/sklearn_pycon2013)\n",
      "- [A tutorial from SciPy 2013 conference](https://github.com/jakevdp/sklearn_scipy2013) (check out the advanced track!)"
     ]
    },
    {
     "cell_type": "markdown",
     "metadata": {},
     "source": [
      "![Scikit-learn algorithm cheatsheet](http://scikit-learn.org/dev/_static/ml_map.png)"
     ]
    },
    {
     "cell_type": "markdown",
     "metadata": {},
     "source": [
      "## 2. Optimization in Python with OpenOpt"
     ]
    },
    {
     "cell_type": "code",
     "collapsed": false,
     "input": [],
     "language": "python",
     "metadata": {},
     "outputs": []
    },
    {
     "cell_type": "markdown",
     "metadata": {},
     "source": [
      "*Copyright 2014, Maruan Al-Shedivat and Yiannis Hadjimichael, ACM Student Members.*"
     ]
    }
   ],
   "metadata": {}
  }
 ]
}