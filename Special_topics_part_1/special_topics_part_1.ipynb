{
 "metadata": {
  "name": "basics_special_v4"
 },
 "nbformat": 3,
 "nbformat_minor": 0,
 "worksheets": [
  {
   "cells": [
    {
     "cell_type": "markdown",
     "metadata": {},
     "source": "TO DO:\n\n* Use path.join for cross platform usage\n* Use absolute path to avoid confusions"
    },
    {
     "cell_type": "markdown",
     "metadata": {},
     "source": "# Running applications and data processing in Python\n\nThis tutorial provide useful tools in Python for: Script/code generation, running applicatios and operating system dependent functionalities, and working with files: reading, parsing, and writing.\n\nThe tutorial consists of three parts:\n\n* Introducing relevant Python modules and functions that are useful in the context of this tutorial\n* A complete example\n* Exercise"
    },
    {
     "cell_type": "markdown",
     "metadata": {},
     "source": "## Relevant Python modules\n\nIn this tutorial we will look at several \n\n* Get/change current working directory\n* Get the list of files and directorys in a given directory from wildcards string\n* Delete files and directories\n* Working with files\n* sys.argv\n* Spawn new processes to run applications\n* Using the Template function in string module to generate code from template string\n* Ordered dictionaries\n* Sorting using the dictionary keys in a list of dictionaries\n* Writing/reading CSV files\n* Creating tarball\n* Simple plotting function for elements from a table"
    },
    {
     "cell_type": "markdown",
     "metadata": {},
     "source": "### Dealing with the file system and path\n\nThe `glob`, `os`, and `shutil` modules provide important cross-platform functionalities to deal with the file system. To see the full documentation you can refer to these links:\n\n[http://docs.python.org/2/library/glob.html](http://docs.python.org/2/library/glob.html)\n\n[http://docs.python.org/2/library/os.html](http://docs.python.org/2/library/os.html)\n\n[http://docs.python.org/2/library/shutil.html](http://docs.python.org/2/library/shutil.html)"
    },
    {
     "cell_type": "code",
     "collapsed": false,
     "input": "import os\nfrom os.path import join as join_path\nhelp(os.getcwd)\nprint(\"----------------------------------------------------------\")\nhelp(os.chdir)\nprint(\"----------------------------------------------------------\")\nhelp(os.makedirs)\nprint(\"----------------------------------------------------------\")\nhelp(os.listdir)\nprint(\"----------------------------------------------------------\")\nhelp(os.remove)\nprint(\"----------------------------------------------------------\")\nhelp(join_path)\nprint(\"----------------------------------------------------------\")\nhelp(os.path.abspath)",
     "language": "python",
     "metadata": {},
     "outputs": [
      {
       "output_type": "stream",
       "stream": "stdout",
       "text": "Help on built-in function getcwd in module posix:\n\ngetcwd(...)\n    getcwd() -> path\n    \n    Return a string representing the current working directory.\n\n----------------------------------------------------------\nHelp on built-in function chdir in module posix:\n\nchdir(...)\n    chdir(path)\n    \n    Change the current working directory to the specified path.\n\n----------------------------------------------------------\nHelp on function makedirs in module os:\n\nmakedirs(name, mode=511)\n    makedirs(path [, mode=0777])\n    \n    Super-mkdir; create a leaf directory and all intermediate ones.\n    Works like mkdir, except that any intermediate path segment (not\n    just the rightmost) will be created if it does not exist.  This is\n    recursive.\n\n----------------------------------------------------------\nHelp on built-in function listdir in module posix:\n\nlistdir(...)\n    listdir(path) -> list_of_strings\n    \n    Return a list containing the names of the entries in the directory.\n    \n        path: path of directory to list\n    \n    The list is in arbitrary order.  It does not include the special\n    entries '.' and '..' even if they are present in the directory.\n\n----------------------------------------------------------\nHelp on built-in function remove in module posix:\n\nremove(...)\n    remove(path)\n    \n    Remove a file (same as unlink(path)).\n\n----------------------------------------------------------\nHelp on function join in module posixpath:\n\njoin(a, *p)\n    Join two or more pathname components, inserting '/' as needed.\n    If any component is an absolute path, all previous path components\n    will be discarded.  An empty last part will result in a path that\n    ends with a separator.\n\n----------------------------------------------------------\nHelp on function abspath in module posixpath:\n\nabspath(path)\n    Return an absolute path.\n\n"
      }
     ],
     "prompt_number": 11
    },
    {
     "cell_type": "code",
     "collapsed": false,
     "input": "os.chdir(\"/Users/malastm/Dropbox/python_tutorial/basics_spetial_topic\")\n\nprint(\"The current directory was       : \" + os.getcwd())\n\ntutorial_example_dir = os.path.join(os.getcwd(), \"example\")\nos.chdir(tutorial_example_dir)\nprint(\"The current directory changed to: \" + os.getcwd())\n\nprint(\"Files in this directory: \", os.listdir('.'))",
     "language": "python",
     "metadata": {},
     "outputs": [
      {
       "output_type": "stream",
       "stream": "stdout",
       "text": "The current directory was       : /Users/malastm/Dropbox/python_tutorial/basics_spetial_topic\nThe current directory changed to: /Users/malastm/Dropbox/python_tutorial/basics_spetial_topic/example\n('Files in this directory: ', ['bmi.tar.gz', 'results', 'scripts'])\n"
      }
     ],
     "prompt_number": 9
    },
    {
     "cell_type": "code",
     "collapsed": false,
     "input": "import glob\n\nhelp(glob.glob)",
     "language": "python",
     "metadata": {},
     "outputs": [
      {
       "output_type": "stream",
       "stream": "stdout",
       "text": "Help on function glob in module glob:\n\nglob(pathname)\n    Return a list of paths matching a pathname pattern.\n    \n    The pattern may contain simple shell-style wildcards a la\n    fnmatch. However, unlike fnmatch, filenames starting with a\n    dot are special cases that are not matched by '*' and '?'\n    patterns.\n\n"
      }
     ],
     "prompt_number": 60
    },
    {
     "cell_type": "code",
     "collapsed": false,
     "input": "import shutil\n\nhelp(shutil.rmtree)",
     "language": "python",
     "metadata": {},
     "outputs": []
    },
    {
     "cell_type": "code",
     "collapsed": false,
     "input": "def clean_all():\n    \"\"\"This function removes any generated previous result at this tutorial's example\"\"\"\n    import glob, shutil, os\n    for f in glob.glob('results/*.*'):\n        os.remove(f)\n    shutil.rmtree('results/patients', ignore_errors=True)\n\nclean_all()",
     "language": "python",
     "metadata": {},
     "outputs": [],
     "prompt_number": 15
    },
    {
     "cell_type": "markdown",
     "metadata": {},
     "source": "### working with files: reading and writing\n\n"
    },
    {
     "cell_type": "code",
     "collapsed": false,
     "input": "help(open)\nprint(\"----------------------------------------------------------\")\nprint(\"----------------------------------------------------------\")\nprint(dir(file))\nprint(\"----------------------------------------------------------\")\nhelp(file.close)\nprint(\"----------------------------------------------------------\")\nhelp(file.read)\nprint(\"----------------------------------------------------------\")\nhelp(file.write)\nprint(\"----------------------------------------------------------\")\nhelp(file.readline)",
     "language": "python",
     "metadata": {},
     "outputs": [
      {
       "output_type": "stream",
       "stream": "stdout",
       "text": "Help on built-in function open in module __builtin__:\n\nopen(...)\n    open(name[, mode[, buffering]]) -> file object\n    \n    Open a file using the file() type, returns a file object.  This is the\n    preferred way to open a file.  See file.__doc__ for further information.\n\n----------------------------------------------------------\n----------------------------------------------------------\n['__class__', '__delattr__', '__doc__', '__enter__', '__exit__', '__format__', '__getattribute__', '__hash__', '__init__', '__iter__', '__new__', '__reduce__', '__reduce_ex__', '__repr__', '__setattr__', '__sizeof__', '__str__', '__subclasshook__', 'close', 'closed', 'encoding', 'errors', 'fileno', 'flush', 'isatty', 'mode', 'name', 'newlines', 'next', 'read', 'readinto', 'readline', 'readlines', 'seek', 'softspace', 'tell', 'truncate', 'write', 'writelines', 'xreadlines']\n----------------------------------------------------------\nHelp on method_descriptor:\n\nclose(...)\n    close() -> None or (perhaps) an integer.  Close the file.\n    \n    Sets data attribute .closed to True.  A closed file cannot be used for\n    further I/O operations.  close() may be called more than once without\n    error.  Some kinds of file objects (for example, opened by popen())\n    may return an exit status upon closing.\n\n----------------------------------------------------------\nHelp on method_descriptor:\n\nread(...)\n    read([size]) -> read at most size bytes, returned as a string.\n    \n    If the size argument is negative or omitted, read until EOF is reached.\n    Notice that when in non-blocking mode, less data than what was requested\n    may be returned, even if no size parameter was given.\n\n----------------------------------------------------------\nHelp on method_descriptor:\n\nwrite(...)\n    write(str) -> None.  Write string str to file.\n    \n    Note that due to buffering, flush() or close() may be needed before\n    the file on disk reflects the data written.\n\n----------------------------------------------------------\nHelp on method_descriptor:\n\nreadline(...)\n    readline([size]) -> next line from the file, as a string.\n    \n    Retain newline.  A non-negative size argument limits the maximum\n    number of bytes to return (an incomplete line may be returned then).\n    Return an empty string at EOF.\n\n"
      }
     ],
     "prompt_number": 24
    },
    {
     "cell_type": "markdown",
     "metadata": {},
     "source": "#### A useful function to print the contents of a file given its name"
    },
    {
     "cell_type": "code",
     "collapsed": false,
     "input": "def print_file(f_name):\n    \"\"\"Print the contents of a file. The same operation of 'cat', the shell command\"\"\"\n    f = open(f_name, 'r')\n    print(f.read())\n    f.close()",
     "language": "python",
     "metadata": {},
     "outputs": [],
     "prompt_number": 26
    },
    {
     "cell_type": "markdown",
     "metadata": {},
     "source": "## Complete example\n\nIn this example we will:\n\n* generate a script/code from a template,\n* use Python to run the script over several inputs to generate the raw results files,\n* extract/parse the desired information from the raw files and place them in a dictionary,\n* sort the data,\n* write the results table in a CSV file, and finally\n* archive the code file and information for reproducibility"
    },
    {
     "cell_type": "markdown",
     "metadata": {},
     "source": "Before generating a script, it is a good practice to test the base script before using it as a template.\n\nThe following script takes person's information and write them in a file using human-readable text"
    },
    {
     "cell_type": "code",
     "collapsed": false,
     "input": "print_file(join_path(\"scripts\", \"format_info.py\") )",
     "language": "python",
     "metadata": {},
     "outputs": [
      {
       "output_type": "stream",
       "stream": "stdout",
       "text": "#!/usr/bin/env python\n\nimport sys\n\nname = str(sys.argv[1])\nheight = float(sys.argv[2])\nweight = float(sys.argv[3])\nage = int(sys.argv[4])\n\nf = open('results/patient_' + name + '_' + str(age) + '.txt', 'w')\n\nf.write( \"patient's name: \" + name + \"\\n\")\nf.write( \"patient's age: \" + str(age) + \" Years\\n\")\nf.write( \"patient's Weight: \" + str(weight) + \" kgs\\n\")\nf.write( \"patient's height: \" + str(height) + \" Meters\\n\")\n\nf.close\n\n"
      }
     ],
     "prompt_number": 27
    },
    {
     "cell_type": "markdown",
     "metadata": {},
     "source": "To run an application, a python script in our example, we use the `subprocess` module. It contains functions to spawn new processes, work with their input/output/error pipes, and read their return code.\n\nHere we use `check_call` function at the module. It will raise an exception if the process does not terminate normally, that is, the return code is not zero.\n\nFor more information about the `subprocess` module see: [http://docs.python.org/2/library/subprocess.html](http://docs.python.org/2/library/subprocess.html)"
    },
    {
     "cell_type": "code",
     "collapsed": false,
     "input": "import subprocess\n\npython_script = \"scripts/format_info.py\"\ncommand = \"Python \" + python_script\narguments = \" Ahmad 1.77 80 25\"\n\nprint(\"We will run a process using this command: \" + command + arguments)\nsts = subprocess.check_call(command + arguments, shell=True)\nprint (\"The return status of the process: \" + str(sts))",
     "language": "python",
     "metadata": {},
     "outputs": [
      {
       "output_type": "stream",
       "stream": "stdout",
       "text": "We will run a process using this command: Python scripts/format_info.py Ahmad 1.77 80 25\nThe return status of the process: 0\nHelp on function check_call in module subprocess:\n\ncheck_call(*popenargs, **kwargs)\n    Run command with arguments.  Wait for command to complete.  If\n    the exit code was zero then return, otherwise raise\n    CalledProcessError.  The CalledProcessError object will have the\n    return code in the returncode attribute.\n    \n    The arguments are the same as for the Popen constructor.  Example:\n    \n    check_call([\"ls\", \"-l\"])\n\n"
      }
     ],
     "prompt_number": 44
    },
    {
     "cell_type": "markdown",
     "metadata": {},
     "source": "Now read the resulting output file, then remove it"
    },
    {
     "cell_type": "code",
     "collapsed": false,
     "input": "print(os.listdir('results'))",
     "language": "python",
     "metadata": {},
     "outputs": [
      {
       "output_type": "stream",
       "stream": "stdout",
       "text": "['.DS_Store', 'patient_Ahmad_25.txt']\n"
      }
     ],
     "prompt_number": 37
    },
    {
     "cell_type": "code",
     "collapsed": false,
     "input": "print_file(join_path(\"results\", \"patient_Ahmad_25.txt\"))\nos.remove(join_path(\"results\", \"patient_Ahmad_25.txt\"))",
     "language": "python",
     "metadata": {},
     "outputs": [
      {
       "output_type": "stream",
       "stream": "stdout",
       "text": "patient's name: Ahmad\npatient's age: 25 Years\npatient's Weight: 80.0 kgs\npatient's height: 1.77 Meters\n\n"
      }
     ],
     "prompt_number": 38
    },
    {
     "cell_type": "markdown",
     "metadata": {},
     "source": "### Using the Template class for code generation\n\nThe following example uses the Template class to generate a python script from a template string. \n\nThe following code cell contains the template string of our target script. The string contains the constant parts that will remain the same and the template placeholders that will be replaced with the desired values. The `$` is used to indicate template placeholders that will be replaced with the desired string. In this string we have two placeholders: `formula` and `name`.\n\nThe goal of this code generation is to generate a script that will compute additional information and include it in the output file.\n\nNote: special care is required for special characters. For example the `\\n` is replaced with `\\\\n`. Also, if the desired script contains `$`, it should be replaced with `$$` in the template string."
    },
    {
     "cell_type": "code",
     "collapsed": false,
     "input": "script_template_txt = \"\"\"#!/usr/bin/env python\n\nimport sys\n\nname = str(sys.argv[1])\nheight = float(sys.argv[2])\nweight = float(sys.argv[3])\nage = int(sys.argv[4])\n\nval = $formula\n\nf = open('results/patients/patient_' + name + '_' + str(age) + '.txt', 'w')\n\nf.write( \"patient's name: \" + name + \"\\\\n\")\nf.write( \"patient's age: \" + str(age) + \" Years\\\\n\")\nf.write( \"patient's Weight: \" + str(weight) + \" kgs\\\\n\")\nf.write( \"patient's height: \" + str(height) + \" Meters\\\\n\")\n\nf.write( \"patient's $name: %f \\\\n\" % val)\n\nf.close\n\"\"\"",
     "language": "python",
     "metadata": {},
     "outputs": [],
     "prompt_number": 48
    },
    {
     "cell_type": "markdown",
     "metadata": {},
     "source": "Now we create a template object, named `script_template`. Then, the template variables are substituted with the Body Mass Index (BMI) formula. The resulting string is written out to a script file named `calc_bmi.py`"
    },
    {
     "cell_type": "code",
     "collapsed": false,
     "input": "from string import Template\n\nscript_template = Template(script_template_txt)\nformula = \"weight/height**2\"\nname = \"BMI\"\nscript_txt = script_template.substitute(formula=formula, name=name)\n\nwith open(join_path(\"results\",\"calc_bmi.py\"), 'w') as f:\n    f.write(script_txt)\n\nprint_file(join_path(\"results\",\"calc_bmi.py\"))",
     "language": "python",
     "metadata": {},
     "outputs": [
      {
       "output_type": "stream",
       "stream": "stdout",
       "text": "#!/usr/bin/env python\n\nimport sys\n\nname = str(sys.argv[1])\nheight = float(sys.argv[2])\nweight = float(sys.argv[3])\nage = int(sys.argv[4])\n\nval = weight/height**2\n\nf = open('results/patients/patient_' + name + '_' + str(age) + '.txt', 'w')\n\nf.write( \"patient's name: \" + name + \"\\n\")\nf.write( \"patient's age: \" + str(age) + \" Years\\n\")\nf.write( \"patient's Weight: \" + str(weight) + \" kgs\\n\")\nf.write( \"patient's height: \" + str(height) + \" Meters\\n\")\n\nf.write( \"patient's BMI: %f \\n\" % val)\n\nf.close\n\n"
      }
     ],
     "prompt_number": 49
    },
    {
     "cell_type": "markdown",
     "metadata": {},
     "source": "Now create a directory for the results."
    },
    {
     "cell_type": "code",
     "collapsed": false,
     "input": "def ensure_dir(d):\n    \"\"\" Create a directory and ignore the error if the directory already exist\"\"\"\n    import os, errno\n    try:\n        os.makedirs(d)\n    except OSError as exc:\n        if exc.errno == errno.EEXIST:\n            pass\n        else: raise\n            \nensure_dir(join_path(\"results\", \"patients\"))",
     "language": "python",
     "metadata": {},
     "outputs": [],
     "prompt_number": 50
    },
    {
     "cell_type": "markdown",
     "metadata": {},
     "source": " Here we test our generated script."
    },
    {
     "cell_type": "code",
     "collapsed": false,
     "input": "python_script = join_path(\"results\",\"calc_bmi.py\")\ncommand = \"Python \" + python_script\narguments = \" Ahmad 1.77 80 25\"\n\nsubprocess.check_call(command + arguments, shell=True)\n\nprint_file(join_path(\"results\", \"patients\", \"patient_Ahmad_25.txt\"))\nos.remove(join_path(\"results\", \"patients\", \"patient_Ahmad_25.txt\"))",
     "language": "python",
     "metadata": {},
     "outputs": [
      {
       "output_type": "stream",
       "stream": "stdout",
       "text": "patient's name: Ahmad\npatient's age: 25 Years\npatient's Weight: 80.0 kgs\npatient's height: 1.77 Meters\npatient's BMI: 25.535446 \n\n"
      }
     ],
     "prompt_number": 51
    },
    {
     "cell_type": "markdown",
     "metadata": {},
     "source": "Run the new script over several examples to generate the raw files in the `patients` directory"
    },
    {
     "cell_type": "code",
     "collapsed": false,
     "input": "patients = [('Williams',19,84,1.74), ('Johnson',23,82, 1.65), \n            ('Jones', 25, 70, 1.8), ('Jones', 29, 85, 1.66),\n            ('Smith', 30, 120, 1.9), ('ahmad', 35, 50.5, 1.5)]\n\nfor n, a, w, h in patients:\n    arguments = \" %s %f %f %d\" % (n, h, w, a)\n    subprocess.check_call(command + arguments, shell=True)",
     "language": "python",
     "metadata": {},
     "outputs": [],
     "prompt_number": 53
    },
    {
     "cell_type": "code",
     "collapsed": false,
     "input": "os.listdir(join_path('results', 'patients'))",
     "language": "python",
     "metadata": {},
     "outputs": [
      {
       "metadata": {},
       "output_type": "pyout",
       "prompt_number": 55,
       "text": "['patient_ahmad_35.txt',\n 'patient_Johnson_23.txt',\n 'patient_Jones_25.txt',\n 'patient_Jones_29.txt',\n 'patient_Smith_30.txt',\n 'patient_Williams_19.txt']"
      }
     ],
     "prompt_number": 55
    },
    {
     "cell_type": "markdown",
     "metadata": {},
     "source": "#### Parsing the results\n\nThe following function takes an object of a raw file, extracts/parses the desired values, and returns an ordered dictionary of the entries."
    },
    {
     "cell_type": "code",
     "collapsed": false,
     "input": "from collections import OrderedDict\ndef parse_bmi(fp):\n    fields = [(\"patient's name\", \"name\", str),(\"patient's age\", \"age\", int),\n              (\"patient's Weight\", \"weight\", float),(\"patient's height\", \"height\", float),(\"patient's BMI\", \"bmi\", float)]\n    record = OrderedDict()\n    for f in fields:\n        record[f[1]] = 0\n    for ln in fp:\n        for f in fields:\n            if f[0] in ln:\n                # Using naive string parsing:\n                #val = ln.split(\":\")[1].strip().split(' ')[0]\n                val = ln.split(\":\")[1]\n                val = val.strip()\n                val = val.split(' ')[0]\n                val = map(f[2], [val])[0]\n                \n                record[f[1]] = val\n\n    return record",
     "language": "python",
     "metadata": {},
     "outputs": [],
     "prompt_number": 57
    },
    {
     "cell_type": "markdown",
     "metadata": {},
     "source": "In the following two code blocks the list of available raw files is prepared. Then, the files are parsed and placed in a list of dictionaries"
    },
    {
     "cell_type": "code",
     "collapsed": false,
     "input": "files_list = glob.glob(join_path('results', 'patients', '*.txt') )\nprint (files_list)",
     "language": "python",
     "metadata": {},
     "outputs": [
      {
       "output_type": "stream",
       "stream": "stdout",
       "text": "['results/patients/patient_ahmad_35.txt', 'results/patients/patient_Johnson_23.txt', 'results/patients/patient_Jones_25.txt', 'results/patients/patient_Jones_29.txt', 'results/patients/patient_Smith_30.txt', 'results/patients/patient_Williams_19.txt']\n"
      }
     ],
     "prompt_number": 65
    },
    {
     "cell_type": "code",
     "collapsed": false,
     "input": "entries =[]\nfor rf in files_list:    \n    with open(rf, 'r') as fp: \n        record = parse_bmi(fp)\n        entries.append(record)\n\nfor i in entries: print(i)",
     "language": "python",
     "metadata": {},
     "outputs": [
      {
       "output_type": "stream",
       "stream": "stdout",
       "text": "OrderedDict([('name', 'ahmad'), ('age', 35), ('weight', 50.5), ('height', 1.5), ('bmi', 22.444444)])\nOrderedDict([('name', 'Johnson'), ('age', 23), ('weight', 82.0), ('height', 1.65), ('bmi', 30.119376)])\nOrderedDict([('name', 'Jones'), ('age', 25), ('weight', 70.0), ('height', 1.8), ('bmi', 21.604938)])\nOrderedDict([('name', 'Jones'), ('age', 29), ('weight', 85.0), ('height', 1.66), ('bmi', 30.846277)])\nOrderedDict([('name', 'Smith'), ('age', 30), ('weight', 120.0), ('height', 1.9), ('bmi', 33.240997)])\nOrderedDict([('name', 'Williams'), ('age', 19), ('weight', 84.0), ('height', 1.74), ('bmi', 27.744748)])\n"
      }
     ],
     "prompt_number": 66
    },
    {
     "cell_type": "markdown",
     "metadata": {},
     "source": "#### Sorting the results\n\nWe use the `sorted` built-in function in Python. It returns a sorted list of the given iterable, a list of dictionaries in our example. In a flat list, for example `[1,4,2]`, it is clear for sorting function what is greater/smaller to perform the sorting operation. Because we have a dictionary in each item of our list, the optional argument `key` is used to specify the value we would like to compare in the dictionary. `key` argument accepts a single argument function that returns the comparison value.\n\nFor more information see: [http://docs.python.org/2/library/functions.html#sorted](http://docs.python.org/2/library/functions.html#sorted)"
    },
    {
     "cell_type": "code",
     "collapsed": false,
     "input": "# We will use the itemgetter function to specify our soring key from the dictionary\nfrom operator import itemgetter\n\nd0 = entries[0]\nprint(d0)\n\nig = itemgetter('age', 'name')\nprint (ig(d0))\n# This is equivalent to:\nprint(d0['age'], d0['name'])",
     "language": "python",
     "metadata": {},
     "outputs": [
      {
       "output_type": "stream",
       "stream": "stdout",
       "text": "OrderedDict([('name', 'ahmad'), ('age', 35), ('weight', 50.5), ('height', 1.5), ('bmi', 22.444444)])\n(35, 'ahmad')\n(35, 'ahmad')\n"
      }
     ],
     "prompt_number": 69
    },
    {
     "cell_type": "markdown",
     "metadata": {},
     "source": "Now we sort the records according to the age then the name"
    },
    {
     "cell_type": "code",
     "collapsed": false,
     "input": "from operator import itemgetter\n\nentries = sorted(entries, key=itemgetter('age', 'name'))",
     "language": "python",
     "metadata": {},
     "outputs": [],
     "prompt_number": 70
    },
    {
     "cell_type": "code",
     "collapsed": false,
     "input": "for i in entries: print(i)",
     "language": "python",
     "metadata": {},
     "outputs": [
      {
       "output_type": "stream",
       "stream": "stdout",
       "text": "OrderedDict([('name', 'Williams'), ('age', 19), ('weight', 84.0), ('height', 1.74), ('bmi', 27.744748)])\nOrderedDict([('name', 'Johnson'), ('age', 23), ('weight', 82.0), ('height', 1.65), ('bmi', 30.119376)])\nOrderedDict([('name', 'Jones'), ('age', 25), ('weight', 70.0), ('height', 1.8), ('bmi', 21.604938)])\nOrderedDict([('name', 'Jones'), ('age', 29), ('weight', 85.0), ('height', 1.66), ('bmi', 30.846277)])\nOrderedDict([('name', 'Smith'), ('age', 30), ('weight', 120.0), ('height', 1.9), ('bmi', 33.240997)])\nOrderedDict([('name', 'ahmad'), ('age', 35), ('weight', 50.5), ('height', 1.5), ('bmi', 22.444444)])\n"
      }
     ],
     "prompt_number": 71
    },
    {
     "cell_type": "markdown",
     "metadata": {},
     "source": "#### Writing to a CSV file\n\nIn the following code block, the list of dictionaries is stored in a CSV file. We use the `csv` module for this purpose. It has many powerful functionalities to write/read CSV files. Here we use the DictWriter/DictReader classes to write/read data to/from CSV files. These two classes are specialized to deal with dictionary data types in python.\n\nFor more information see [http://docs.python.org/2/library/csv.html](http://docs.python.org/2/library/csv.html)."
    },
    {
     "cell_type": "code",
     "collapsed": false,
     "input": "from csv import DictWriter\nfields = entries[0].keys()\n\nwith open( join_path('results', 'records.csv'), 'w' ) as output_file:\n        r = DictWriter(output_file,fieldnames=fields)\n        r.writeheader()\n        for k in entries:\n            r.writerow(k)",
     "language": "python",
     "metadata": {},
     "outputs": [],
     "prompt_number": 73
    },
    {
     "cell_type": "code",
     "collapsed": false,
     "input": "print_file( join_path('results', 'records.csv') )",
     "language": "python",
     "metadata": {},
     "outputs": [
      {
       "output_type": "stream",
       "stream": "stdout",
       "text": "name,age,weight,height,bmi\r\nWilliams,19,84.0,1.74,27.744748\r\nJohnson,23,82.0,1.65,30.119376\r\nJones,25,70.0,1.8,21.604938\r\nJones,29,85.0,1.66,30.846277\r\nSmith,30,120.0,1.9,33.240997\r\nahmad,35,50.5,1.5,22.444444\r\n\n"
      }
     ],
     "prompt_number": 74
    },
    {
     "cell_type": "markdown",
     "metadata": {},
     "source": "#### Loading data from CSV file and and extracting data from the table"
    },
    {
     "cell_type": "code",
     "collapsed": false,
     "input": "from csv import DictReader\nwith open(join_path('results', 'records.csv'), 'rb') as output_file:\n    data = DictReader(output_file)\n    data = [k for k in data]\nprint(data)",
     "language": "python",
     "metadata": {},
     "outputs": [
      {
       "output_type": "stream",
       "stream": "stdout",
       "text": "[{'age': '19', 'bmi': '27.744748', 'name': 'Williams', 'weight': '84.0', 'height': '1.74'}, {'age': '23', 'bmi': '30.119376', 'name': 'Johnson', 'weight': '82.0', 'height': '1.65'}, {'age': '25', 'bmi': '21.604938', 'name': 'Jones', 'weight': '70.0', 'height': '1.8'}, {'age': '29', 'bmi': '30.846277', 'name': 'Jones', 'weight': '85.0', 'height': '1.66'}, {'age': '30', 'bmi': '33.240997', 'name': 'Smith', 'weight': '120.0', 'height': '1.9'}, {'age': '35', 'bmi': '22.444444', 'name': 'ahmad', 'weight': '50.5', 'height': '1.5'}]\n"
      }
     ],
     "prompt_number": 90
    },
    {
     "cell_type": "markdown",
     "metadata": {},
     "source": "Now extract the `age` and `bmi` values from the data"
    },
    {
     "cell_type": "code",
     "collapsed": false,
     "input": "points = []\nfor d in data:\n    points.append((d['age'], d['bmi']))\nprint(points)",
     "language": "python",
     "metadata": {},
     "outputs": [
      {
       "output_type": "stream",
       "stream": "stdout",
       "text": "[('19', '27.744748'), ('23', '30.119376'), ('25', '21.604938'), ('29', '30.846277'), ('30', '33.240997'), ('35', '22.444444')]\n"
      }
     ],
     "prompt_number": 80
    },
    {
     "cell_type": "markdown",
     "metadata": {},
     "source": "#### Archiving the source files\n\nA good method to improve the reproducability of the experiment, is to create a tarball of all the source code and setup for each experiment. In a typical project, the tarball would contain all the source files, make files, build log file, and possibly the executable itself.\n\nHere we have most of the source files in the notebook, so we do not have much to place in the tarball. The results here are also stored in the tarball, although it is not a good idea in a real life example."
    },
    {
     "cell_type": "code",
     "collapsed": false,
     "input": "import tarfile\nf_list = [\"results/patients/*.txt\", \"results/*.py\", \"results/patients/*.csv\", \"../basics_special*.ipynb\"]\nf_list = [glob.glob(n) for n in f_list]\nf_list = [n for nn in f_list for n in nn]\n\nf_name = join_path(\"results\", \"bmi.tar.gz\")\nprint \"Writing project files to:\" + f_name\nwith tarfile.open(f_name, \"w:gz\") as tar:\n    for n in f_list:\n        print \"Adding to the tar file: \" + n\n        tar.add(n)",
     "language": "python",
     "metadata": {},
     "outputs": [
      {
       "output_type": "stream",
       "stream": "stdout",
       "text": "Writing project files to:results/bmi.tar.gz\nAdding to the tar file: results/patients/patient_ahmad_35.txt\nAdding to the tar file: results/patients/patient_Johnson_23.txt\nAdding to the tar file: results/patients/patient_Jones_25.txt\nAdding to the tar file: results/patients/patient_Jones_29.txt\nAdding to the tar file: results/patients/patient_Smith_30.txt\nAdding to the tar file: results/patients/patient_Williams_19.txt\nAdding to the tar file: results/calc_bmi.py\nAdding to the tar file: ../basics_special_v0.ipynb\nAdding to the tar file: ../basics_special_v1.ipynb\nAdding to the tar file: ../basics_special_v10.ipynb\nAdding to the tar file: ../basics_special_v2.ipynb\nAdding to the tar file: ../basics_special_v3.ipynb"
      },
      {
       "output_type": "stream",
       "stream": "stdout",
       "text": "\nAdding to the tar file: ../basics_special_v4.ipynb\nAdding to the tar file: ../basics_special_v5.ipynb\nAdding to the tar file: ../basics_special_v6.ipynb\nAdding to the tar file: ../basics_special_v7.ipynb\nAdding to the tar file: ../basics_special_v8.ipynb"
      },
      {
       "output_type": "stream",
       "stream": "stdout",
       "text": "\nAdding to the tar file: ../basics_special_v9.ipynb\n"
      }
     ],
     "prompt_number": 75
    },
    {
     "cell_type": "markdown",
     "metadata": {},
     "source": "## Exercise\n\nIn this exercise you are asked to extend the example of this tutorial to generate additional script. The script will take two blood pressure measurement and add them to the output text file.\n\nthe The following is required in this exercise:\n\n* In the results directory create two directories, one for the BMI results and the other for the Cholesterol results.\n* Generate the BMI script in its results directory and run it over the given data to generate the raw results\n* Perform the same for the Cholesterol script "
    },
    {
     "cell_type": "code",
     "collapsed": false,
     "input": "",
     "language": "python",
     "metadata": {},
     "outputs": []
    },
    {
     "cell_type": "markdown",
     "metadata": {},
     "source": "*Copyright 2014, Tareq Malas, ACM Student Member.*"
    }
   ],
   "metadata": {}
  }
 ]
}